{
  "nbformat": 4,
  "nbformat_minor": 0,
  "metadata": {
    "colab": {
      "provenance": [],
      "include_colab_link": true
    },
    "kernelspec": {
      "name": "python3",
      "display_name": "Python 3"
    },
    "language_info": {
      "name": "python"
    },
    "widgets": {
      "application/vnd.jupyter.widget-state+json": {
        "d27dabeb4d0c4ebdbd95cd94f344e59f": {
          "model_module": "@jupyter-widgets/controls",
          "model_name": "HBoxModel",
          "model_module_version": "1.5.0",
          "state": {
            "_dom_classes": [],
            "_model_module": "@jupyter-widgets/controls",
            "_model_module_version": "1.5.0",
            "_model_name": "HBoxModel",
            "_view_count": null,
            "_view_module": "@jupyter-widgets/controls",
            "_view_module_version": "1.5.0",
            "_view_name": "HBoxView",
            "box_style": "",
            "children": [
              "IPY_MODEL_ce75c71b9455498485be795d982fc888",
              "IPY_MODEL_1c0a770971ea401bba1de2fb1a922e93",
              "IPY_MODEL_66a40619d2c64598932d1c70933679b7"
            ],
            "layout": "IPY_MODEL_0cc7bed0fcb5479d8982d697359f8cde"
          }
        },
        "ce75c71b9455498485be795d982fc888": {
          "model_module": "@jupyter-widgets/controls",
          "model_name": "HTMLModel",
          "model_module_version": "1.5.0",
          "state": {
            "_dom_classes": [],
            "_model_module": "@jupyter-widgets/controls",
            "_model_module_version": "1.5.0",
            "_model_name": "HTMLModel",
            "_view_count": null,
            "_view_module": "@jupyter-widgets/controls",
            "_view_module_version": "1.5.0",
            "_view_name": "HTMLView",
            "description": "",
            "description_tooltip": null,
            "layout": "IPY_MODEL_233f0c0590ba42c0b28d155e370ecf62",
            "placeholder": "​",
            "style": "IPY_MODEL_c8b70759fecf43e6b94907da397d0f02",
            "value": "README.md: 100%"
          }
        },
        "1c0a770971ea401bba1de2fb1a922e93": {
          "model_module": "@jupyter-widgets/controls",
          "model_name": "FloatProgressModel",
          "model_module_version": "1.5.0",
          "state": {
            "_dom_classes": [],
            "_model_module": "@jupyter-widgets/controls",
            "_model_module_version": "1.5.0",
            "_model_name": "FloatProgressModel",
            "_view_count": null,
            "_view_module": "@jupyter-widgets/controls",
            "_view_module_version": "1.5.0",
            "_view_name": "ProgressView",
            "bar_style": "success",
            "description": "",
            "description_tooltip": null,
            "layout": "IPY_MODEL_c4d56116a86a46009e9e727113077be1",
            "max": 3842,
            "min": 0,
            "orientation": "horizontal",
            "style": "IPY_MODEL_30f2ec9fddc74cf3a15f766d32ffd3eb",
            "value": 3842
          }
        },
        "66a40619d2c64598932d1c70933679b7": {
          "model_module": "@jupyter-widgets/controls",
          "model_name": "HTMLModel",
          "model_module_version": "1.5.0",
          "state": {
            "_dom_classes": [],
            "_model_module": "@jupyter-widgets/controls",
            "_model_module_version": "1.5.0",
            "_model_name": "HTMLModel",
            "_view_count": null,
            "_view_module": "@jupyter-widgets/controls",
            "_view_module_version": "1.5.0",
            "_view_name": "HTMLView",
            "description": "",
            "description_tooltip": null,
            "layout": "IPY_MODEL_93a243a731f848c497954be09013d885",
            "placeholder": "​",
            "style": "IPY_MODEL_94fd2527281a4f6ba8715531a1e0dde2",
            "value": " 3.84k/3.84k [00:00&lt;00:00, 174kB/s]"
          }
        },
        "0cc7bed0fcb5479d8982d697359f8cde": {
          "model_module": "@jupyter-widgets/base",
          "model_name": "LayoutModel",
          "model_module_version": "1.2.0",
          "state": {
            "_model_module": "@jupyter-widgets/base",
            "_model_module_version": "1.2.0",
            "_model_name": "LayoutModel",
            "_view_count": null,
            "_view_module": "@jupyter-widgets/base",
            "_view_module_version": "1.2.0",
            "_view_name": "LayoutView",
            "align_content": null,
            "align_items": null,
            "align_self": null,
            "border": null,
            "bottom": null,
            "display": null,
            "flex": null,
            "flex_flow": null,
            "grid_area": null,
            "grid_auto_columns": null,
            "grid_auto_flow": null,
            "grid_auto_rows": null,
            "grid_column": null,
            "grid_gap": null,
            "grid_row": null,
            "grid_template_areas": null,
            "grid_template_columns": null,
            "grid_template_rows": null,
            "height": null,
            "justify_content": null,
            "justify_items": null,
            "left": null,
            "margin": null,
            "max_height": null,
            "max_width": null,
            "min_height": null,
            "min_width": null,
            "object_fit": null,
            "object_position": null,
            "order": null,
            "overflow": null,
            "overflow_x": null,
            "overflow_y": null,
            "padding": null,
            "right": null,
            "top": null,
            "visibility": null,
            "width": null
          }
        },
        "233f0c0590ba42c0b28d155e370ecf62": {
          "model_module": "@jupyter-widgets/base",
          "model_name": "LayoutModel",
          "model_module_version": "1.2.0",
          "state": {
            "_model_module": "@jupyter-widgets/base",
            "_model_module_version": "1.2.0",
            "_model_name": "LayoutModel",
            "_view_count": null,
            "_view_module": "@jupyter-widgets/base",
            "_view_module_version": "1.2.0",
            "_view_name": "LayoutView",
            "align_content": null,
            "align_items": null,
            "align_self": null,
            "border": null,
            "bottom": null,
            "display": null,
            "flex": null,
            "flex_flow": null,
            "grid_area": null,
            "grid_auto_columns": null,
            "grid_auto_flow": null,
            "grid_auto_rows": null,
            "grid_column": null,
            "grid_gap": null,
            "grid_row": null,
            "grid_template_areas": null,
            "grid_template_columns": null,
            "grid_template_rows": null,
            "height": null,
            "justify_content": null,
            "justify_items": null,
            "left": null,
            "margin": null,
            "max_height": null,
            "max_width": null,
            "min_height": null,
            "min_width": null,
            "object_fit": null,
            "object_position": null,
            "order": null,
            "overflow": null,
            "overflow_x": null,
            "overflow_y": null,
            "padding": null,
            "right": null,
            "top": null,
            "visibility": null,
            "width": null
          }
        },
        "c8b70759fecf43e6b94907da397d0f02": {
          "model_module": "@jupyter-widgets/controls",
          "model_name": "DescriptionStyleModel",
          "model_module_version": "1.5.0",
          "state": {
            "_model_module": "@jupyter-widgets/controls",
            "_model_module_version": "1.5.0",
            "_model_name": "DescriptionStyleModel",
            "_view_count": null,
            "_view_module": "@jupyter-widgets/base",
            "_view_module_version": "1.2.0",
            "_view_name": "StyleView",
            "description_width": ""
          }
        },
        "c4d56116a86a46009e9e727113077be1": {
          "model_module": "@jupyter-widgets/base",
          "model_name": "LayoutModel",
          "model_module_version": "1.2.0",
          "state": {
            "_model_module": "@jupyter-widgets/base",
            "_model_module_version": "1.2.0",
            "_model_name": "LayoutModel",
            "_view_count": null,
            "_view_module": "@jupyter-widgets/base",
            "_view_module_version": "1.2.0",
            "_view_name": "LayoutView",
            "align_content": null,
            "align_items": null,
            "align_self": null,
            "border": null,
            "bottom": null,
            "display": null,
            "flex": null,
            "flex_flow": null,
            "grid_area": null,
            "grid_auto_columns": null,
            "grid_auto_flow": null,
            "grid_auto_rows": null,
            "grid_column": null,
            "grid_gap": null,
            "grid_row": null,
            "grid_template_areas": null,
            "grid_template_columns": null,
            "grid_template_rows": null,
            "height": null,
            "justify_content": null,
            "justify_items": null,
            "left": null,
            "margin": null,
            "max_height": null,
            "max_width": null,
            "min_height": null,
            "min_width": null,
            "object_fit": null,
            "object_position": null,
            "order": null,
            "overflow": null,
            "overflow_x": null,
            "overflow_y": null,
            "padding": null,
            "right": null,
            "top": null,
            "visibility": null,
            "width": null
          }
        },
        "30f2ec9fddc74cf3a15f766d32ffd3eb": {
          "model_module": "@jupyter-widgets/controls",
          "model_name": "ProgressStyleModel",
          "model_module_version": "1.5.0",
          "state": {
            "_model_module": "@jupyter-widgets/controls",
            "_model_module_version": "1.5.0",
            "_model_name": "ProgressStyleModel",
            "_view_count": null,
            "_view_module": "@jupyter-widgets/base",
            "_view_module_version": "1.2.0",
            "_view_name": "StyleView",
            "bar_color": null,
            "description_width": ""
          }
        },
        "93a243a731f848c497954be09013d885": {
          "model_module": "@jupyter-widgets/base",
          "model_name": "LayoutModel",
          "model_module_version": "1.2.0",
          "state": {
            "_model_module": "@jupyter-widgets/base",
            "_model_module_version": "1.2.0",
            "_model_name": "LayoutModel",
            "_view_count": null,
            "_view_module": "@jupyter-widgets/base",
            "_view_module_version": "1.2.0",
            "_view_name": "LayoutView",
            "align_content": null,
            "align_items": null,
            "align_self": null,
            "border": null,
            "bottom": null,
            "display": null,
            "flex": null,
            "flex_flow": null,
            "grid_area": null,
            "grid_auto_columns": null,
            "grid_auto_flow": null,
            "grid_auto_rows": null,
            "grid_column": null,
            "grid_gap": null,
            "grid_row": null,
            "grid_template_areas": null,
            "grid_template_columns": null,
            "grid_template_rows": null,
            "height": null,
            "justify_content": null,
            "justify_items": null,
            "left": null,
            "margin": null,
            "max_height": null,
            "max_width": null,
            "min_height": null,
            "min_width": null,
            "object_fit": null,
            "object_position": null,
            "order": null,
            "overflow": null,
            "overflow_x": null,
            "overflow_y": null,
            "padding": null,
            "right": null,
            "top": null,
            "visibility": null,
            "width": null
          }
        },
        "94fd2527281a4f6ba8715531a1e0dde2": {
          "model_module": "@jupyter-widgets/controls",
          "model_name": "DescriptionStyleModel",
          "model_module_version": "1.5.0",
          "state": {
            "_model_module": "@jupyter-widgets/controls",
            "_model_module_version": "1.5.0",
            "_model_name": "DescriptionStyleModel",
            "_view_count": null,
            "_view_module": "@jupyter-widgets/base",
            "_view_module_version": "1.2.0",
            "_view_name": "StyleView",
            "description_width": ""
          }
        }
      }
    }
  },
  "cells": [
    {
      "cell_type": "markdown",
      "metadata": {
        "id": "view-in-github",
        "colab_type": "text"
      },
      "source": [
        "<a href=\"https://colab.research.google.com/github/neo4j-contrib/ms-graphrag-neo4j/blob/main/examples/neo4j_weaviate_combined.ipynb\" target=\"_parent\"><img src=\"https://colab.research.google.com/assets/colab-badge.svg\" alt=\"Open In Colab\"/></a>"
      ]
    },
    {
      "cell_type": "markdown",
      "source": [
        ">[Naive RAG vs GraphRAG with Neo4J & Weaviate](#scrollTo=n3QFDMrgAkCo)\n",
        "\n",
        ">>[Install Dependencies](#scrollTo=n3QFDMrgAkCo)\n",
        "\n",
        ">>[Write Documents to Weaviate Cloud](#scrollTo=nqwuGr0Xhgtm)\n",
        "\n",
        ">>[Classic RAG with OpenAI](#scrollTo=-uAAWPQXBUdX)\n",
        "\n",
        ">>[Graph RAG](#scrollTo=zzBnUF4bBYKG)\n",
        "\n",
        ">>>[Build a Graph with Neo4J](#scrollTo=zzBnUF4bBYKG)\n",
        "\n",
        ">>>[Extract Relevant Entities](#scrollTo=FVzpKJViBiJT)\n",
        "\n",
        ">>>[Summarize Nodes and Communities](#scrollTo=j1wAsUfIBrGc)\n",
        "\n",
        ">>>[Write the Entities to Weaviate](#scrollTo=n105cc-_B9bN)\n",
        "\n"
      ],
      "metadata": {
        "colab_type": "toc",
        "id": "GXFxB5p3CPfX"
      }
    },
    {
      "cell_type": "markdown",
      "source": [
        "# Naive RAG vs GraphRAG with Neo4J & Weaviate\n",
        "\n",
        "In this recipe, we will be walking through 2 ways of doing RAG:\n",
        "\n",
        "1. Classic RAG where we do simple vector search, followed be answer generation based on this context\n",
        "2. Graph RAG, making use of both vector search, combined by a graph representation of our dataset including community and node summaries\n",
        "\n",
        "For this example, we will be using a generated dataset called \"Financial Contracts\", that lists (fake) contracts sugned between individuals and companies.\n",
        "\n",
        "## Install Dependencies"
      ],
      "metadata": {
        "id": "n3QFDMrgAkCo"
      }
    },
    {
      "cell_type": "code",
      "source": [
        "!pip install --quiet --upgrade git+https://github.com/neo4j-contrib/ms-graphrag-neo4j.git datasets weaviate-client neo4j-graphrag"
      ],
      "metadata": {
        "colab": {
          "base_uri": "https://localhost:8080/"
        },
        "id": "Wahz0DAFT4p7",
        "outputId": "9a53901a-edf0-44a2-dff4-0967b6ea8ea2"
      },
      "execution_count": 1,
      "outputs": [
        {
          "output_type": "stream",
          "name": "stdout",
          "text": [
            "  Installing build dependencies ... \u001b[?25l\u001b[?25hdone\n",
            "  Getting requirements to build wheel ... \u001b[?25l\u001b[?25hdone\n",
            "  Preparing metadata (pyproject.toml) ... \u001b[?25l\u001b[?25hdone\n"
          ]
        }
      ]
    },
    {
      "cell_type": "markdown",
      "source": [
        "## Write Documents to Weaviate Cloud\n",
        "\n",
        "To get started, you can use a free Weaviate Sandbox.\n",
        "\n",
        "1. Create a cluster\n",
        "2. Take note of the cluster URL and API key\n",
        "3. Go to 'Embeddings' and turn it on."
      ],
      "metadata": {
        "id": "nqwuGr0Xhgtm"
      }
    },
    {
      "cell_type": "code",
      "source": [
        "import os\n",
        "from getpass import getpass\n",
        "\n",
        "if \"WEAVIATE_API_KEY\" not in os.environ:\n",
        "  os.environ[\"WEAVIATE_API_KEY\"] = getpass(\"Weaviate API Key\")\n",
        "if \"WEAVIATE_URL\" not in os.environ:\n",
        "  os.environ[\"WEAVIATE_URL\"] = getpass(\"Weaviate URL\")"
      ],
      "metadata": {
        "id": "chKCzqNS8CvX",
        "colab": {
          "base_uri": "https://localhost:8080/"
        },
        "outputId": "31a53b85-f22f-4c3d-8724-1c2fb42a8a9d"
      },
      "execution_count": 2,
      "outputs": [
        {
          "name": "stdout",
          "output_type": "stream",
          "text": [
            "Weaviate API Key··········\n",
            "Weaviate URL··········\n"
          ]
        }
      ]
    },
    {
      "cell_type": "code",
      "source": [
        "import weaviate\n",
        "from weaviate.auth import Auth\n",
        "\n",
        "client = weaviate.connect_to_weaviate_cloud(\n",
        "    cluster_url=os.environ.get(\"WEAVIATE_URL\"),\n",
        "    auth_credentials=Auth.api_key(os.environ.get(\"WEAVIATE_API_KEY\")),\n",
        ")"
      ],
      "metadata": {
        "id": "o5opqllkhzm6"
      },
      "execution_count": 4,
      "outputs": []
    },
    {
      "cell_type": "code",
      "source": [
        "from weaviate.classes.config import Configure\n",
        "\n",
        "#client.collections.delete(\"Financial_contracts\")\n",
        "client.collections.create(\n",
        "    \"Financial_contracts\",\n",
        "    description=\"A dataset of financial contracts between indivicuals and/or companies, as well as information on the type of contract and who has authored them.\",\n",
        "    vectorizer_config=Configure.Vectorizer.text2vec_weaviate(),\n",
        ")"
      ],
      "metadata": {
        "id": "0ZzBFSLah2QQ",
        "colab": {
          "base_uri": "https://localhost:8080/"
        },
        "outputId": "3e7bdba8-e195-4a36-9775-8453d460097b"
      },
      "execution_count": 5,
      "outputs": [
        {
          "output_type": "execute_result",
          "data": {
            "text/plain": [
              "<weaviate.collections.collection.sync.Collection at 0x7a72cd3b8610>"
            ]
          },
          "metadata": {},
          "execution_count": 5
        }
      ]
    },
    {
      "cell_type": "code",
      "source": [
        "from datasets import load_dataset\n",
        "\n",
        "financial_dataset = load_dataset(\"weaviate/agents\", \"query-agent-financial-contracts\", split=\"train\", streaming=True)"
      ],
      "metadata": {
        "colab": {
          "base_uri": "https://localhost:8080/",
          "height": 153,
          "referenced_widgets": [
            "d27dabeb4d0c4ebdbd95cd94f344e59f",
            "ce75c71b9455498485be795d982fc888",
            "1c0a770971ea401bba1de2fb1a922e93",
            "66a40619d2c64598932d1c70933679b7",
            "0cc7bed0fcb5479d8982d697359f8cde",
            "233f0c0590ba42c0b28d155e370ecf62",
            "c8b70759fecf43e6b94907da397d0f02",
            "c4d56116a86a46009e9e727113077be1",
            "30f2ec9fddc74cf3a15f766d32ffd3eb",
            "93a243a731f848c497954be09013d885",
            "94fd2527281a4f6ba8715531a1e0dde2"
          ]
        },
        "id": "KChqfZu8pTZP",
        "outputId": "4d95eb0f-3b77-4064-b36e-8e7edcf9efe2"
      },
      "execution_count": 6,
      "outputs": [
        {
          "output_type": "stream",
          "name": "stderr",
          "text": [
            "/usr/local/lib/python3.11/dist-packages/huggingface_hub/utils/_auth.py:94: UserWarning: \n",
            "The secret `HF_TOKEN` does not exist in your Colab secrets.\n",
            "To authenticate with the Hugging Face Hub, create a token in your settings tab (https://huggingface.co/settings/tokens), set it as secret in your Google Colab and restart your session.\n",
            "You will be able to reuse this secret in all of your notebooks.\n",
            "Please note that authentication is recommended but still optional to access public models or datasets.\n",
            "  warnings.warn(\n"
          ]
        },
        {
          "output_type": "display_data",
          "data": {
            "text/plain": [
              "README.md:   0%|          | 0.00/3.84k [00:00<?, ?B/s]"
            ],
            "application/vnd.jupyter.widget-view+json": {
              "version_major": 2,
              "version_minor": 0,
              "model_id": "d27dabeb4d0c4ebdbd95cd94f344e59f"
            }
          },
          "metadata": {}
        }
      ]
    },
    {
      "cell_type": "code",
      "source": [
        "financial_collection = client.collections.get(\"Financial_contracts\")\n",
        "\n",
        "with financial_collection.batch.dynamic() as batch:\n",
        "    for item in financial_dataset:\n",
        "        batch.add_object(properties=item[\"properties\"])"
      ],
      "metadata": {
        "id": "sigF9C03iBki"
      },
      "execution_count": 7,
      "outputs": []
    },
    {
      "cell_type": "markdown",
      "source": [
        "## Classic RAG with OpenAI"
      ],
      "metadata": {
        "id": "-uAAWPQXBUdX"
      }
    },
    {
      "cell_type": "code",
      "source": [
        "os.environ[\"OPENAI_API_KEY\"]= getpass(\"Openai API Key:\")"
      ],
      "metadata": {
        "colab": {
          "base_uri": "https://localhost:8080/"
        },
        "id": "XOdJPeg9U_sl",
        "outputId": "0cef06b9-ccac-4ebf-9c7b-8bdfda81a490"
      },
      "execution_count": 9,
      "outputs": [
        {
          "name": "stdout",
          "output_type": "stream",
          "text": [
            "Openai API Key:··········\n"
          ]
        }
      ]
    },
    {
      "cell_type": "code",
      "source": [
        "from openai import AsyncOpenAI\n",
        "\n",
        "openai_client = AsyncOpenAI()\n",
        "\n",
        "async def achat(messages, model=\"gpt-4o\", temperature=0, config={}):\n",
        "    response = await openai_client.chat.completions.create(\n",
        "        model=model,\n",
        "        temperature=temperature,\n",
        "        messages=messages,\n",
        "        **config,\n",
        "    )\n",
        "    return response.choices[0].message.content"
      ],
      "metadata": {
        "id": "WtoZ2oCIwpRL"
      },
      "execution_count": 10,
      "outputs": []
    },
    {
      "cell_type": "code",
      "source": [
        "async def classic_rag(input: str) -> str:\n",
        "    context = [str(obj.properties) for obj in financial_collection.query.near_text(query = input, limit=3).objects]\n",
        "    messages = [\n",
        "    {\n",
        "        \"role\": \"user\",\n",
        "        \"content\": \"Based on the given context: {context} \\n\\n Answer the following question: {question}\".format(context=context, question=input)\n",
        "    },\n",
        "    ]\n",
        "    output = await achat(messages, model=\"gpt-4o\")\n",
        "    return output"
      ],
      "metadata": {
        "id": "S3oJUcHF7IhA"
      },
      "execution_count": 11,
      "outputs": []
    },
    {
      "cell_type": "code",
      "source": [
        "response = await classic_rag(\"What do you know about Weaviate\")\n",
        "print(response)"
      ],
      "metadata": {
        "colab": {
          "base_uri": "https://localhost:8080/"
        },
        "id": "6Cv88Dv883ST",
        "outputId": "a8617e0e-29b9-4dce-ef01-dd45de748b55"
      },
      "execution_count": 12,
      "outputs": [
        {
          "output_type": "stream",
          "name": "stdout",
          "text": [
            "Based on the provided context, Weaviate is a corporation involved in multiple partnership agreements with OpenAI. Here are some details about Weaviate from the context:\n",
            "\n",
            "1. **Location and Legal Organization**:\n",
            "   - In the first agreement dated March 15, 2022, Weaviate is described as a corporation organized under the laws of the State of Delaware, with its principal place of business at 123 Innovation Drive, Wilmington, DE.\n",
            "   - In the second agreement dated April 5, 2023, Weaviate is located at 123 Innovation Drive, Tech City.\n",
            "   - In the third agreement dated November 15, 2023, Weaviate is described as a corporation organized under the laws of the state of California, with its principal office located at 123 Innovation Drive, San Francisco, CA.\n",
            "\n",
            "2. **Partnerships with OpenAI**:\n",
            "   - Weaviate has entered into multiple partnership agreements with OpenAI to collaborate on various projects, particularly in the field of artificial intelligence.\n",
            "   - The agreements outline financial contributions, responsibilities, and profit-sharing arrangements between Weaviate and OpenAI.\n",
            "\n",
            "3. **Responsibilities and Contributions**:\n",
            "   - In the agreements, Weaviate is responsible for project management, client relations, marketing, and promotion of joint projects.\n",
            "   - Weaviate has made financial contributions to the partnerships, with specific amounts mentioned in each agreement.\n",
            "\n",
            "4. **Duration and Termination**:\n",
            "   - The agreements have specified durations, typically two to three years, with provisions for early termination upon written notice.\n",
            "\n",
            "5. **Representation**:\n",
            "   - Jane Doe and Johnathan Smith are mentioned as representatives of Weaviate in different agreements.\n",
            "\n",
            "Overall, Weaviate appears to be an active participant in collaborative projects with OpenAI, focusing on AI-driven initiatives and sharing responsibilities and profits with its partner.\n"
          ]
        }
      ]
    },
    {
      "cell_type": "markdown",
      "source": [
        "## Graph RAG\n",
        "\n",
        "### Build a Graph with Neo4J\n"
      ],
      "metadata": {
        "id": "zzBnUF4bBYKG"
      }
    },
    {
      "cell_type": "code",
      "execution_count": 13,
      "metadata": {
        "id": "TKTTyhgzT16d"
      },
      "outputs": [],
      "source": [
        "import os\n",
        "from getpass import getpass\n",
        "\n",
        "from ms_graphrag_neo4j import MsGraphRAG\n",
        "from neo4j import GraphDatabase\n",
        "import pandas as pd\n",
        "\n",
        "# Use Neo4j Sandbox - Blank Project https://sandbox.neo4j.com/\n",
        "\n",
        "os.environ[\"NEO4J_URI\"]=\"bolt://52.207.220.65:7687\"\n",
        "os.environ[\"NEO4J_USERNAME\"]=\"neo4j\"\n",
        "os.environ[\"NEO4J_PASSWORD\"]=\"dives-platform-eligibility\""
      ]
    },
    {
      "cell_type": "code",
      "source": [
        "driver = GraphDatabase.driver(\n",
        "    os.environ[\"NEO4J_URI\"],\n",
        "    auth=(os.environ[\"NEO4J_USERNAME\"], os.environ[\"NEO4J_PASSWORD\"]),\n",
        "    #notifications_min_severity=\"OFF\",\n",
        ")\n",
        "ms_graph = MsGraphRAG(driver=driver, model=\"gpt-4o\", max_workers=10)"
      ],
      "metadata": {
        "id": "kYI-du6JUI00"
      },
      "execution_count": 14,
      "outputs": []
    },
    {
      "cell_type": "code",
      "source": [
        "import pandas as pd\n",
        "\n",
        "# Login using e.g. `huggingface-cli login` to access this dataset\n",
        "df = pd.read_parquet(\"hf://datasets/weaviate/agents/query-agent/financial-contracts/0001.parquet\")\n",
        "df.head()"
      ],
      "metadata": {
        "colab": {
          "base_uri": "https://localhost:8080/",
          "height": 206
        },
        "id": "IkgiLkpyua2D",
        "outputId": "f50d317c-96c9-4f63-e2e7-c88de74d7ecb"
      },
      "execution_count": 15,
      "outputs": [
        {
          "output_type": "execute_result",
          "data": {
            "text/plain": [
              "                                          properties  \\\n",
              "0  {'date': '2023-03-15T14:30:00+00:00', 'contrac...   \n",
              "1  {'date': '2023-03-15T10:30:00+00:00', 'contrac...   \n",
              "2  {'date': '2022-03-15T09:30:00+00:00', 'contrac...   \n",
              "3  {'date': '2023-09-15T14:23:00+00:00', 'contrac...   \n",
              "4  {'date': '2024-03-15T10:30:00+00:00', 'contrac...   \n",
              "\n",
              "                                              vector  \n",
              "0  [-0.02571106, 0.028182983, 0.011955261, -0.014...  \n",
              "1  [0.013244629, 0.015045166, 0.0042381287, -0.04...  \n",
              "2  [-0.041625977, 0.013809204, -0.011222839, 0.03...  \n",
              "3  [-0.006462097, -0.003780365, -0.064453125, -0....  \n",
              "4  [-0.022064209, 0.04623413, -0.0284729, 0.00141...  "
            ],
            "text/html": [
              "\n",
              "  <div id=\"df-f210d5b3-de91-4b1a-a3ef-78ec49990caa\" class=\"colab-df-container\">\n",
              "    <div>\n",
              "<style scoped>\n",
              "    .dataframe tbody tr th:only-of-type {\n",
              "        vertical-align: middle;\n",
              "    }\n",
              "\n",
              "    .dataframe tbody tr th {\n",
              "        vertical-align: top;\n",
              "    }\n",
              "\n",
              "    .dataframe thead th {\n",
              "        text-align: right;\n",
              "    }\n",
              "</style>\n",
              "<table border=\"1\" class=\"dataframe\">\n",
              "  <thead>\n",
              "    <tr style=\"text-align: right;\">\n",
              "      <th></th>\n",
              "      <th>properties</th>\n",
              "      <th>vector</th>\n",
              "    </tr>\n",
              "  </thead>\n",
              "  <tbody>\n",
              "    <tr>\n",
              "      <th>0</th>\n",
              "      <td>{'date': '2023-03-15T14:30:00+00:00', 'contrac...</td>\n",
              "      <td>[-0.02571106, 0.028182983, 0.011955261, -0.014...</td>\n",
              "    </tr>\n",
              "    <tr>\n",
              "      <th>1</th>\n",
              "      <td>{'date': '2023-03-15T10:30:00+00:00', 'contrac...</td>\n",
              "      <td>[0.013244629, 0.015045166, 0.0042381287, -0.04...</td>\n",
              "    </tr>\n",
              "    <tr>\n",
              "      <th>2</th>\n",
              "      <td>{'date': '2022-03-15T09:30:00+00:00', 'contrac...</td>\n",
              "      <td>[-0.041625977, 0.013809204, -0.011222839, 0.03...</td>\n",
              "    </tr>\n",
              "    <tr>\n",
              "      <th>3</th>\n",
              "      <td>{'date': '2023-09-15T14:23:00+00:00', 'contrac...</td>\n",
              "      <td>[-0.006462097, -0.003780365, -0.064453125, -0....</td>\n",
              "    </tr>\n",
              "    <tr>\n",
              "      <th>4</th>\n",
              "      <td>{'date': '2024-03-15T10:30:00+00:00', 'contrac...</td>\n",
              "      <td>[-0.022064209, 0.04623413, -0.0284729, 0.00141...</td>\n",
              "    </tr>\n",
              "  </tbody>\n",
              "</table>\n",
              "</div>\n",
              "    <div class=\"colab-df-buttons\">\n",
              "\n",
              "  <div class=\"colab-df-container\">\n",
              "    <button class=\"colab-df-convert\" onclick=\"convertToInteractive('df-f210d5b3-de91-4b1a-a3ef-78ec49990caa')\"\n",
              "            title=\"Convert this dataframe to an interactive table.\"\n",
              "            style=\"display:none;\">\n",
              "\n",
              "  <svg xmlns=\"http://www.w3.org/2000/svg\" height=\"24px\" viewBox=\"0 -960 960 960\">\n",
              "    <path d=\"M120-120v-720h720v720H120Zm60-500h600v-160H180v160Zm220 220h160v-160H400v160Zm0 220h160v-160H400v160ZM180-400h160v-160H180v160Zm440 0h160v-160H620v160ZM180-180h160v-160H180v160Zm440 0h160v-160H620v160Z\"/>\n",
              "  </svg>\n",
              "    </button>\n",
              "\n",
              "  <style>\n",
              "    .colab-df-container {\n",
              "      display:flex;\n",
              "      gap: 12px;\n",
              "    }\n",
              "\n",
              "    .colab-df-convert {\n",
              "      background-color: #E8F0FE;\n",
              "      border: none;\n",
              "      border-radius: 50%;\n",
              "      cursor: pointer;\n",
              "      display: none;\n",
              "      fill: #1967D2;\n",
              "      height: 32px;\n",
              "      padding: 0 0 0 0;\n",
              "      width: 32px;\n",
              "    }\n",
              "\n",
              "    .colab-df-convert:hover {\n",
              "      background-color: #E2EBFA;\n",
              "      box-shadow: 0px 1px 2px rgba(60, 64, 67, 0.3), 0px 1px 3px 1px rgba(60, 64, 67, 0.15);\n",
              "      fill: #174EA6;\n",
              "    }\n",
              "\n",
              "    .colab-df-buttons div {\n",
              "      margin-bottom: 4px;\n",
              "    }\n",
              "\n",
              "    [theme=dark] .colab-df-convert {\n",
              "      background-color: #3B4455;\n",
              "      fill: #D2E3FC;\n",
              "    }\n",
              "\n",
              "    [theme=dark] .colab-df-convert:hover {\n",
              "      background-color: #434B5C;\n",
              "      box-shadow: 0px 1px 3px 1px rgba(0, 0, 0, 0.15);\n",
              "      filter: drop-shadow(0px 1px 2px rgba(0, 0, 0, 0.3));\n",
              "      fill: #FFFFFF;\n",
              "    }\n",
              "  </style>\n",
              "\n",
              "    <script>\n",
              "      const buttonEl =\n",
              "        document.querySelector('#df-f210d5b3-de91-4b1a-a3ef-78ec49990caa button.colab-df-convert');\n",
              "      buttonEl.style.display =\n",
              "        google.colab.kernel.accessAllowed ? 'block' : 'none';\n",
              "\n",
              "      async function convertToInteractive(key) {\n",
              "        const element = document.querySelector('#df-f210d5b3-de91-4b1a-a3ef-78ec49990caa');\n",
              "        const dataTable =\n",
              "          await google.colab.kernel.invokeFunction('convertToInteractive',\n",
              "                                                    [key], {});\n",
              "        if (!dataTable) return;\n",
              "\n",
              "        const docLinkHtml = 'Like what you see? Visit the ' +\n",
              "          '<a target=\"_blank\" href=https://colab.research.google.com/notebooks/data_table.ipynb>data table notebook</a>'\n",
              "          + ' to learn more about interactive tables.';\n",
              "        element.innerHTML = '';\n",
              "        dataTable['output_type'] = 'display_data';\n",
              "        await google.colab.output.renderOutput(dataTable, element);\n",
              "        const docLink = document.createElement('div');\n",
              "        docLink.innerHTML = docLinkHtml;\n",
              "        element.appendChild(docLink);\n",
              "      }\n",
              "    </script>\n",
              "  </div>\n",
              "\n",
              "\n",
              "<div id=\"df-e1471f8e-d97d-4560-b439-4086eb0e2db6\">\n",
              "  <button class=\"colab-df-quickchart\" onclick=\"quickchart('df-e1471f8e-d97d-4560-b439-4086eb0e2db6')\"\n",
              "            title=\"Suggest charts\"\n",
              "            style=\"display:none;\">\n",
              "\n",
              "<svg xmlns=\"http://www.w3.org/2000/svg\" height=\"24px\"viewBox=\"0 0 24 24\"\n",
              "     width=\"24px\">\n",
              "    <g>\n",
              "        <path d=\"M19 3H5c-1.1 0-2 .9-2 2v14c0 1.1.9 2 2 2h14c1.1 0 2-.9 2-2V5c0-1.1-.9-2-2-2zM9 17H7v-7h2v7zm4 0h-2V7h2v10zm4 0h-2v-4h2v4z\"/>\n",
              "    </g>\n",
              "</svg>\n",
              "  </button>\n",
              "\n",
              "<style>\n",
              "  .colab-df-quickchart {\n",
              "      --bg-color: #E8F0FE;\n",
              "      --fill-color: #1967D2;\n",
              "      --hover-bg-color: #E2EBFA;\n",
              "      --hover-fill-color: #174EA6;\n",
              "      --disabled-fill-color: #AAA;\n",
              "      --disabled-bg-color: #DDD;\n",
              "  }\n",
              "\n",
              "  [theme=dark] .colab-df-quickchart {\n",
              "      --bg-color: #3B4455;\n",
              "      --fill-color: #D2E3FC;\n",
              "      --hover-bg-color: #434B5C;\n",
              "      --hover-fill-color: #FFFFFF;\n",
              "      --disabled-bg-color: #3B4455;\n",
              "      --disabled-fill-color: #666;\n",
              "  }\n",
              "\n",
              "  .colab-df-quickchart {\n",
              "    background-color: var(--bg-color);\n",
              "    border: none;\n",
              "    border-radius: 50%;\n",
              "    cursor: pointer;\n",
              "    display: none;\n",
              "    fill: var(--fill-color);\n",
              "    height: 32px;\n",
              "    padding: 0;\n",
              "    width: 32px;\n",
              "  }\n",
              "\n",
              "  .colab-df-quickchart:hover {\n",
              "    background-color: var(--hover-bg-color);\n",
              "    box-shadow: 0 1px 2px rgba(60, 64, 67, 0.3), 0 1px 3px 1px rgba(60, 64, 67, 0.15);\n",
              "    fill: var(--button-hover-fill-color);\n",
              "  }\n",
              "\n",
              "  .colab-df-quickchart-complete:disabled,\n",
              "  .colab-df-quickchart-complete:disabled:hover {\n",
              "    background-color: var(--disabled-bg-color);\n",
              "    fill: var(--disabled-fill-color);\n",
              "    box-shadow: none;\n",
              "  }\n",
              "\n",
              "  .colab-df-spinner {\n",
              "    border: 2px solid var(--fill-color);\n",
              "    border-color: transparent;\n",
              "    border-bottom-color: var(--fill-color);\n",
              "    animation:\n",
              "      spin 1s steps(1) infinite;\n",
              "  }\n",
              "\n",
              "  @keyframes spin {\n",
              "    0% {\n",
              "      border-color: transparent;\n",
              "      border-bottom-color: var(--fill-color);\n",
              "      border-left-color: var(--fill-color);\n",
              "    }\n",
              "    20% {\n",
              "      border-color: transparent;\n",
              "      border-left-color: var(--fill-color);\n",
              "      border-top-color: var(--fill-color);\n",
              "    }\n",
              "    30% {\n",
              "      border-color: transparent;\n",
              "      border-left-color: var(--fill-color);\n",
              "      border-top-color: var(--fill-color);\n",
              "      border-right-color: var(--fill-color);\n",
              "    }\n",
              "    40% {\n",
              "      border-color: transparent;\n",
              "      border-right-color: var(--fill-color);\n",
              "      border-top-color: var(--fill-color);\n",
              "    }\n",
              "    60% {\n",
              "      border-color: transparent;\n",
              "      border-right-color: var(--fill-color);\n",
              "    }\n",
              "    80% {\n",
              "      border-color: transparent;\n",
              "      border-right-color: var(--fill-color);\n",
              "      border-bottom-color: var(--fill-color);\n",
              "    }\n",
              "    90% {\n",
              "      border-color: transparent;\n",
              "      border-bottom-color: var(--fill-color);\n",
              "    }\n",
              "  }\n",
              "</style>\n",
              "\n",
              "  <script>\n",
              "    async function quickchart(key) {\n",
              "      const quickchartButtonEl =\n",
              "        document.querySelector('#' + key + ' button');\n",
              "      quickchartButtonEl.disabled = true;  // To prevent multiple clicks.\n",
              "      quickchartButtonEl.classList.add('colab-df-spinner');\n",
              "      try {\n",
              "        const charts = await google.colab.kernel.invokeFunction(\n",
              "            'suggestCharts', [key], {});\n",
              "      } catch (error) {\n",
              "        console.error('Error during call to suggestCharts:', error);\n",
              "      }\n",
              "      quickchartButtonEl.classList.remove('colab-df-spinner');\n",
              "      quickchartButtonEl.classList.add('colab-df-quickchart-complete');\n",
              "    }\n",
              "    (() => {\n",
              "      let quickchartButtonEl =\n",
              "        document.querySelector('#df-e1471f8e-d97d-4560-b439-4086eb0e2db6 button');\n",
              "      quickchartButtonEl.style.display =\n",
              "        google.colab.kernel.accessAllowed ? 'block' : 'none';\n",
              "    })();\n",
              "  </script>\n",
              "</div>\n",
              "\n",
              "    </div>\n",
              "  </div>\n"
            ],
            "application/vnd.google.colaboratory.intrinsic+json": {
              "type": "dataframe",
              "variable_name": "df",
              "summary": "{\n  \"name\": \"df\",\n  \"rows\": 100,\n  \"fields\": [\n    {\n      \"column\": \"properties\",\n      \"properties\": {\n        \"dtype\": \"object\",\n        \"semantic_type\": \"\",\n        \"description\": \"\"\n      }\n    },\n    {\n      \"column\": \"vector\",\n      \"properties\": {\n        \"dtype\": \"object\",\n        \"semantic_type\": \"\",\n        \"description\": \"\"\n      }\n    }\n  ]\n}"
            }
          },
          "metadata": {},
          "execution_count": 15
        }
      ]
    },
    {
      "cell_type": "code",
      "source": [
        "texts = [el['contract_text'] for el in df['properties']]\n",
        "texts[:2]"
      ],
      "metadata": {
        "colab": {
          "base_uri": "https://localhost:8080/"
        },
        "id": "sB0MwT0X5cIJ",
        "outputId": "7af04b30-34a5-475f-9033-41408f04b724"
      },
      "execution_count": 16,
      "outputs": [
        {
          "output_type": "execute_result",
          "data": {
            "text/plain": [
              "['PARTNERSHIP AGREEMENT\\n\\nThis Partnership Agreement (\"Agreement\") is made and entered into as of the 15th day of March, 2023, by and between Weaviate, a company registered in the State of California, and OpenAI, a research organization based in San Francisco, California.\\n\\n1. Purpose\\nThe parties agree to establish a partnership to collaborate on artificial intelligence research and development, sharing resources and expertise.\\n\\n2. Contributions\\nWeaviate shall contribute technology resources valued at $112.85 and staff time equivalent to a monetary value of $550.09. OpenAI shall contribute its research expertise and a project management team valued at $98.14.\\n\\n3. Profit Sharing\\nThe net profits generated from joint projects shall be distributed as follows: Weaviate shall receive 60% and OpenAI shall receive 40%.\\n\\n4. Duration\\nThis Agreement shall commence on the date hereof and shall continue in effect for a period of three (3) years, unless terminated earlier in accordance with the provisions herein.\\n\\n5. Termination\\nEither party may terminate this Agreement with a written notice of thirty (30) days. Upon termination, the parties shall settle any outstanding financial obligations.\\n\\nIN WITNESS WHEREOF, the parties hereto have executed this Partnership Agreement as of the date first above written.\\n\\nWeaviate\\n___________________________\\nMark Robson, CEO\\n\\nOpenAI\\n___________________________\\nDanny Williams, Director',\n",
              " 'LOAN AGREEMENT\\n\\nThis Loan Agreement (\"Agreement\") is made and entered into as of the 15th day of March, 2023, by and between Weaviate, a corporation organized and existing under the laws of the State, with a principal office located at 123 Innovation Drive, Tech City, and Mark Robson, an individual residing at 456 Creativity Lane, Idea Town.\\n\\n1. LOAN AMOUNT: Weaviate agrees to loan Mark Robson the total amount of $342.00 (Three Hundred Forty-Two Dollars).\\n\\n2. INTEREST RATE: The loan shall bear an interest rate of 2.68% per annum, calculated on the outstanding balance.\\n\\n3. REPAYMENT: The total amount, including interest, shall be repaid in full within a period of three years from the date of this Agreement. Payments shall be made monthly, with the first payment due on April 15, 2023.\\n\\n4. DEFAULT: In the event of default, the borrower agrees that Weaviate may demand immediate repayment of the entire unpaid balance and accrued interest.\\n\\n5. GOVERNING LAW: This Agreement shall be governed by and construed in accordance with the laws of the State.\\n\\nIN WITNESS WHEREOF, the parties hereto have executed this Loan Agreement as of the date first above written.\\n\\nWeaviate: ____________________  \\nAuthorized Signature\\n\\nMark Robson: __________________  \\nBorrower\\'s Signature']"
            ]
          },
          "metadata": {},
          "execution_count": 16
        }
      ]
    },
    {
      "cell_type": "markdown",
      "source": [
        "### Extract Relevant Entities\n",
        "\n",
        "Next, we will start extracting relevant entities and relations between these entities that we might be interested in."
      ],
      "metadata": {
        "id": "FVzpKJViBiJT"
      }
    },
    {
      "cell_type": "code",
      "source": [
        "allowed_entities = [\"Person\", \"Organization\", \"Location\"]\n",
        "\n",
        "await ms_graph.extract_nodes_and_rels(texts, allowed_entities)"
      ],
      "metadata": {
        "colab": {
          "base_uri": "https://localhost:8080/",
          "height": 53
        },
        "id": "7TuxXPv251Ia",
        "outputId": "0b9ac964-586a-4cc4-da15-59d971454188"
      },
      "execution_count": 17,
      "outputs": [
        {
          "output_type": "stream",
          "name": "stderr",
          "text": [
            "Extracting nodes & relationships: 100%|██████████| 100/100 [00:34<00:00,  2.87it/s]\n"
          ]
        },
        {
          "output_type": "execute_result",
          "data": {
            "text/plain": [
              "'Successfuly extracted and imported 274 relationships'"
            ],
            "application/vnd.google.colaboratory.intrinsic+json": {
              "type": "string"
            }
          },
          "metadata": {},
          "execution_count": 17
        }
      ]
    },
    {
      "cell_type": "markdown",
      "source": [
        "### Summarize Nodes and Communities"
      ],
      "metadata": {
        "id": "j1wAsUfIBrGc"
      }
    },
    {
      "cell_type": "code",
      "source": [
        "await ms_graph.summarize_nodes_and_rels()"
      ],
      "metadata": {
        "colab": {
          "base_uri": "https://localhost:8080/",
          "height": 70
        },
        "id": "_ZlhpN9E6cNO",
        "outputId": "85d52a58-cb30-43d0-aa77-1523fb79b32b"
      },
      "execution_count": 18,
      "outputs": [
        {
          "output_type": "stream",
          "name": "stderr",
          "text": [
            "Summarizing nodes: 100%|██████████| 33/33 [00:13<00:00,  2.42it/s]\n",
            "Summarizing relationships: 100%|██████████| 33/33 [00:08<00:00,  3.87it/s]\n"
          ]
        },
        {
          "output_type": "execute_result",
          "data": {
            "text/plain": [
              "'Successfuly summarized nodes and relationships'"
            ],
            "application/vnd.google.colaboratory.intrinsic+json": {
              "type": "string"
            }
          },
          "metadata": {},
          "execution_count": 18
        }
      ]
    },
    {
      "cell_type": "code",
      "source": [
        "await ms_graph.summarize_communities()"
      ],
      "metadata": {
        "colab": {
          "base_uri": "https://localhost:8080/",
          "height": 209
        },
        "id": "L1do4-EX7AAL",
        "outputId": "707af976-9fc7-4799-84e2-b51d7cbc7477"
      },
      "execution_count": 21,
      "outputs": [
        {
          "output_type": "stream",
          "name": "stdout",
          "text": [
            "Leiden algorithm identified 1 community levels with 3 communities on the last level.\n"
          ]
        },
        {
          "output_type": "stream",
          "name": "stderr",
          "text": [
            "\n",
            "\n",
            "Summarizing communities:   0%|          | 0/3 [00:00<?, ?it/s]\u001b[A\u001b[A\n",
            "\n",
            "Summarizing communities:  33%|███▎      | 1/3 [00:09<00:18,  9.19s/it]\u001b[A\u001b[A\n",
            "\n",
            "Summarizing communities:  67%|██████▋   | 2/3 [00:10<00:04,  4.57s/it]\u001b[A\u001b[A\n",
            "\n",
            "Summarizing communities: 100%|██████████| 3/3 [00:13<00:00,  4.41s/it]\n"
          ]
        },
        {
          "output_type": "execute_result",
          "data": {
            "text/plain": [
              "'Generated 3 community summaries'"
            ],
            "application/vnd.google.colaboratory.intrinsic+json": {
              "type": "string"
            }
          },
          "metadata": {},
          "execution_count": 21
        }
      ]
    },
    {
      "cell_type": "code",
      "source": [
        "entities = ms_graph.query(\"\"\"\n",
        "MATCH (e:__Entity__)\n",
        "RETURN e.name AS entity_id, e.summary AS entity_summary\n",
        "\"\"\")"
      ],
      "metadata": {
        "id": "ayWjeNVv7JEy"
      },
      "execution_count": 22,
      "outputs": []
    },
    {
      "cell_type": "code",
      "source": [
        "entities[:2]"
      ],
      "metadata": {
        "id": "PvgvNfY88A77",
        "outputId": "b18546dc-379c-4ba2-9a3b-fde8a1493895",
        "colab": {
          "base_uri": "https://localhost:8080/"
        }
      },
      "execution_count": 23,
      "outputs": [
        {
          "output_type": "execute_result",
          "data": {
            "text/plain": [
              "[{'entity_id': 'WEAVIATE',\n",
              "  'entity_summary': \"Weaviate is a corporation organized under the laws of both the State of California and the State of Delaware, with its principal place of business primarily located in San Francisco, CA, and additional offices at 123 Innovation Drive, Tech City, CA 90210, and 123 Tech Lane, Silicon Valley, CA 94043. The company is involved in a wide range of activities, including providing consulting, software development, data analysis, cloud storage, technical support, and project management services. Weaviate is actively engaged in partnerships to develop innovative AI solutions and advanced data processing technologies, contributing resources and expertise to these collaborations.\\n\\nThe organization acts as both a lessor and a lessee in various lease agreements, and it is involved in multiple business relationships under Non-Disclosure Agreements. Weaviate also participates in sales and purchase order agreements, acting as both a buyer and a seller, and is involved in loan agreements as a lender. The company is responsible for marketing, promotion, and project management in its partnerships and provides services to clients such as OpenAI.\\n\\nWeaviate's involvement in these diverse activities highlights its role as a key player in the technology and AI sectors, leveraging its expertise to drive innovation and support its clients' needs.\"},\n",
              " {'entity_id': 'MARK ROBSON',\n",
              "  'entity_summary': \"Mark Robson is a multifaceted professional with diverse roles and responsibilities across various organizations. He is prominently associated with Weaviate, where he is employed as a Software Engineer. His residential addresses have been noted in several locations, including Los Angeles, CA, San Francisco, CA, and Springfield, IL, among others. In addition to his role at Weaviate, Mark Robson is also the CEO of Weaviate, indicating a significant leadership position within the company.\\n\\nFurthermore, Mark Robson is actively involved with OpenAI, serving as the Director and an authorized representative. He has executed partnership agreements and is the authorized signatory for OpenAI in various capacities. His involvement with OpenAI extends to being the primary contact person for purchase orders and partnership agreements.\\n\\nMark Robson is also engaged in several contractual agreements, including acting as a lessee in lease agreements, a borrower in loan agreements, and a buyer in sales agreements. He is responsible for maintaining leased premises and repaying loans with interest over specified periods. Additionally, he is involved in service agreements with Weaviate, both as a client and as a recipient of invoices for services rendered.\\n\\nOverall, Mark Robson's professional landscape is characterized by his significant roles in both Weaviate and OpenAI, his involvement in various legal and business agreements, and his presence in multiple locations, reflecting a dynamic and influential career.\"}]"
            ]
          },
          "metadata": {},
          "execution_count": 23
        }
      ]
    },
    {
      "cell_type": "markdown",
      "source": [
        "### Write the Entities to Weaviate"
      ],
      "metadata": {
        "id": "n105cc-_B9bN"
      }
    },
    {
      "cell_type": "code",
      "source": [
        "from weaviate.classes.config import Configure\n",
        "\n",
        "#client.collections.delete(\"Entities\")\n",
        "client.collections.create(\n",
        "    \"Entities\",\n",
        "    description=\"A dataset of entities appearing in the financial contracts between indivicuals and/or companies, as well as information on the type of contract and who has authored them.\",\n",
        "    vectorizer_config=Configure.Vectorizer.text2vec_weaviate(),\n",
        ")"
      ],
      "metadata": {
        "colab": {
          "base_uri": "https://localhost:8080/"
        },
        "id": "Q8iy4rO3qQ0F",
        "outputId": "d71ed661-ec93-4aa0-8a3a-369cf61736ed"
      },
      "execution_count": 25,
      "outputs": [
        {
          "output_type": "execute_result",
          "data": {
            "text/plain": [
              "<weaviate.collections.collection.sync.Collection at 0x7a71e4142510>"
            ]
          },
          "metadata": {},
          "execution_count": 25
        }
      ]
    },
    {
      "cell_type": "code",
      "source": [
        "from datasets import IterableDataset\n",
        "\n",
        "# Define a simple generator\n",
        "def list_generator(data):\n",
        "    for item in data:\n",
        "        yield item\n",
        "\n",
        "# Create the IterableDataset\n",
        "entities_dataset = IterableDataset.from_generator(list_generator, gen_kwargs={\"data\": entities})"
      ],
      "metadata": {
        "id": "4TG2awNzqYpA"
      },
      "execution_count": 26,
      "outputs": []
    },
    {
      "cell_type": "code",
      "source": [
        "entities_collection = client.collections.get(\"Entities\")\n",
        "\n",
        "with entities_collection.batch.dynamic() as batch:\n",
        "    for item in entities_dataset:\n",
        "        batch.add_object(properties=item)"
      ],
      "metadata": {
        "id": "fCDnGfGXrKUd"
      },
      "execution_count": 28,
      "outputs": []
    },
    {
      "cell_type": "code",
      "source": [
        "from neo4j_graphrag.retrievers import WeaviateNeo4jRetriever\n",
        "\n",
        "retrieval_query = \"\"\"\n",
        "    WITH collect(node) as nodes\n",
        "WITH collect {\n",
        "    UNWIND nodes as n\n",
        "    MATCH (n)<-[:MENTIONS]->(c:__Chunk__)\n",
        "    WITH c, count(distinct n) as freq\n",
        "    RETURN c.text AS chunkText\n",
        "    ORDER BY freq DESC\n",
        "    LIMIT 3\n",
        "} AS text_mapping,\n",
        "collect {\n",
        "    UNWIND nodes as n\n",
        "    MATCH (n)-[:IN_COMMUNITY*]->(c:__Community__)\n",
        "    WHERE c.summary IS NOT NULL\n",
        "    WITH c, c.rating as rank\n",
        "    RETURN c.summary\n",
        "    ORDER BY rank DESC\n",
        "    LIMIT 3\n",
        "} AS report_mapping,\n",
        "collect {\n",
        "    UNWIND nodes as n\n",
        "    MATCH (n)-[r:SUMMARIZED_RELATIONSHIP]-(m)\n",
        "    WHERE m IN nodes\n",
        "    RETURN r.summary AS descriptionText\n",
        "    LIMIT 3\n",
        "} as insideRels,\n",
        "collect {\n",
        "    UNWIND nodes as n\n",
        "    RETURN n.summary AS descriptionText\n",
        "} as entities\n",
        "RETURN {Chunks: text_mapping, Reports: report_mapping,\n",
        "       Relationships: insideRels,\n",
        "       Entities: entities} AS output\n",
        "    \"\"\"\n",
        "\n",
        "retriever = WeaviateNeo4jRetriever(\n",
        "    driver=driver,\n",
        "    client=client,\n",
        "    collection=\"Entities\",\n",
        "    id_property_external=\"entity_id\",\n",
        "    id_property_neo4j=\"name\",\n",
        "    retrieval_query=retrieval_query\n",
        ")"
      ],
      "metadata": {
        "id": "tEmPiLVdr8ao"
      },
      "execution_count": 29,
      "outputs": []
    },
    {
      "cell_type": "code",
      "source": [
        "async def hybrid_local_search_rag(input: str) -> str:\n",
        "    context = [str(el[1]) for el in retriever.search(query_text=input, top_k=3)]\n",
        "    messages = [\n",
        "    {\n",
        "        \"role\": \"user\",\n",
        "        \"content\": \"Based on the given context: {context} \\n\\n Answer the following question: {question}\".format(context=context, question=input)\n",
        "    },\n",
        "    ]\n",
        "    output = await achat(messages, model=\"gpt-4o\")\n",
        "    return output"
      ],
      "metadata": {
        "id": "VszQsBQ3v00Z"
      },
      "execution_count": 30,
      "outputs": []
    },
    {
      "cell_type": "code",
      "source": [
        "response = await hybrid_local_search_rag(input=\"What do you know about Weaviate\")\n",
        "print(response)"
      ],
      "metadata": {
        "colab": {
          "base_uri": "https://localhost:8080/"
        },
        "id": "EmgyW2XuwC0C",
        "outputId": "8c46af34-9c68-4707-f7e0-d88f45adbd34"
      },
      "execution_count": 31,
      "outputs": [
        {
          "output_type": "stream",
          "name": "stdout",
          "text": [
            "Weaviate is a corporation organized under the laws of both the State of California and the State of Delaware. Its principal place of business is primarily located in San Francisco, CA, with additional offices at 123 Innovation Drive, Tech City, CA, and 123 Tech Lane, Silicon Valley, CA. The company is involved in a wide range of activities, including consulting, software development, data analysis, cloud storage, technical support, and project management services. Weaviate is actively engaged in partnerships to develop innovative AI solutions and advanced data processing technologies, contributing resources and expertise to these collaborations.\n",
            "\n",
            "The organization acts as both a lessor and a lessee in various lease agreements and is involved in multiple business relationships under Non-Disclosure Agreements. Weaviate also participates in sales and purchase order agreements, acting as both a buyer and a seller, and is involved in loan agreements as a lender. The company is responsible for marketing, promotion, and project management in its partnerships and provides services to clients such as OpenAI.\n",
            "\n",
            "Weaviate's involvement in these diverse activities highlights its role as a key player in the technology and AI sectors, leveraging its expertise to drive innovation and support its clients' needs. Additionally, Weaviate's principal office is located in Wilmington, DE.\n"
          ]
        }
      ]
    },
    {
      "cell_type": "code",
      "source": [],
      "metadata": {
        "id": "Mf-S6xR19t78"
      },
      "execution_count": null,
      "outputs": []
    }
  ]
}