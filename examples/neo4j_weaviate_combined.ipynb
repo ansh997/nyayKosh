{
  "nbformat": 4,
  "nbformat_minor": 0,
  "metadata": {
    "colab": {
      "provenance": []
    },
    "kernelspec": {
      "name": "python3",
      "display_name": "Python 3"
    },
    "language_info": {
      "name": "python"
    },
    "widgets": {
      "application/vnd.jupyter.widget-state+json": {
        "9e5bc9dfd8884912beff5728ec8bbdc7": {
          "model_module": "@jupyter-widgets/controls",
          "model_name": "HBoxModel",
          "model_module_version": "1.5.0",
          "state": {
            "_dom_classes": [],
            "_model_module": "@jupyter-widgets/controls",
            "_model_module_version": "1.5.0",
            "_model_name": "HBoxModel",
            "_view_count": null,
            "_view_module": "@jupyter-widgets/controls",
            "_view_module_version": "1.5.0",
            "_view_name": "HBoxView",
            "box_style": "",
            "children": [
              "IPY_MODEL_eafa00edc14a470881d6f2c904a9ffef",
              "IPY_MODEL_ee06d76d5ef74d9b9d46d1bde06559af",
              "IPY_MODEL_2d8d63fcc23c4f31ad2f839abaa6ea0b"
            ],
            "layout": "IPY_MODEL_606b4ad123d54df1901ce7587ae19d80"
          }
        },
        "eafa00edc14a470881d6f2c904a9ffef": {
          "model_module": "@jupyter-widgets/controls",
          "model_name": "HTMLModel",
          "model_module_version": "1.5.0",
          "state": {
            "_dom_classes": [],
            "_model_module": "@jupyter-widgets/controls",
            "_model_module_version": "1.5.0",
            "_model_name": "HTMLModel",
            "_view_count": null,
            "_view_module": "@jupyter-widgets/controls",
            "_view_module_version": "1.5.0",
            "_view_name": "HTMLView",
            "description": "",
            "description_tooltip": null,
            "layout": "IPY_MODEL_f88429672e6442af9aead3c5cbfe96f2",
            "placeholder": "​",
            "style": "IPY_MODEL_d812f6c3298840f0acfe15bde118f2e3",
            "value": "README.md: 100%"
          }
        },
        "ee06d76d5ef74d9b9d46d1bde06559af": {
          "model_module": "@jupyter-widgets/controls",
          "model_name": "FloatProgressModel",
          "model_module_version": "1.5.0",
          "state": {
            "_dom_classes": [],
            "_model_module": "@jupyter-widgets/controls",
            "_model_module_version": "1.5.0",
            "_model_name": "FloatProgressModel",
            "_view_count": null,
            "_view_module": "@jupyter-widgets/controls",
            "_view_module_version": "1.5.0",
            "_view_name": "ProgressView",
            "bar_style": "success",
            "description": "",
            "description_tooltip": null,
            "layout": "IPY_MODEL_6552898f055f41398f82a647eeb667ae",
            "max": 3842,
            "min": 0,
            "orientation": "horizontal",
            "style": "IPY_MODEL_d9cfba4a60d94d2a92401483687f781c",
            "value": 3842
          }
        },
        "2d8d63fcc23c4f31ad2f839abaa6ea0b": {
          "model_module": "@jupyter-widgets/controls",
          "model_name": "HTMLModel",
          "model_module_version": "1.5.0",
          "state": {
            "_dom_classes": [],
            "_model_module": "@jupyter-widgets/controls",
            "_model_module_version": "1.5.0",
            "_model_name": "HTMLModel",
            "_view_count": null,
            "_view_module": "@jupyter-widgets/controls",
            "_view_module_version": "1.5.0",
            "_view_name": "HTMLView",
            "description": "",
            "description_tooltip": null,
            "layout": "IPY_MODEL_65db57d55f964060b387c98ad69f78df",
            "placeholder": "​",
            "style": "IPY_MODEL_c46b7ea82cd144b6a67b4bcfc5252d0f",
            "value": " 3.84k/3.84k [00:00&lt;00:00, 136kB/s]"
          }
        },
        "606b4ad123d54df1901ce7587ae19d80": {
          "model_module": "@jupyter-widgets/base",
          "model_name": "LayoutModel",
          "model_module_version": "1.2.0",
          "state": {
            "_model_module": "@jupyter-widgets/base",
            "_model_module_version": "1.2.0",
            "_model_name": "LayoutModel",
            "_view_count": null,
            "_view_module": "@jupyter-widgets/base",
            "_view_module_version": "1.2.0",
            "_view_name": "LayoutView",
            "align_content": null,
            "align_items": null,
            "align_self": null,
            "border": null,
            "bottom": null,
            "display": null,
            "flex": null,
            "flex_flow": null,
            "grid_area": null,
            "grid_auto_columns": null,
            "grid_auto_flow": null,
            "grid_auto_rows": null,
            "grid_column": null,
            "grid_gap": null,
            "grid_row": null,
            "grid_template_areas": null,
            "grid_template_columns": null,
            "grid_template_rows": null,
            "height": null,
            "justify_content": null,
            "justify_items": null,
            "left": null,
            "margin": null,
            "max_height": null,
            "max_width": null,
            "min_height": null,
            "min_width": null,
            "object_fit": null,
            "object_position": null,
            "order": null,
            "overflow": null,
            "overflow_x": null,
            "overflow_y": null,
            "padding": null,
            "right": null,
            "top": null,
            "visibility": null,
            "width": null
          }
        },
        "f88429672e6442af9aead3c5cbfe96f2": {
          "model_module": "@jupyter-widgets/base",
          "model_name": "LayoutModel",
          "model_module_version": "1.2.0",
          "state": {
            "_model_module": "@jupyter-widgets/base",
            "_model_module_version": "1.2.0",
            "_model_name": "LayoutModel",
            "_view_count": null,
            "_view_module": "@jupyter-widgets/base",
            "_view_module_version": "1.2.0",
            "_view_name": "LayoutView",
            "align_content": null,
            "align_items": null,
            "align_self": null,
            "border": null,
            "bottom": null,
            "display": null,
            "flex": null,
            "flex_flow": null,
            "grid_area": null,
            "grid_auto_columns": null,
            "grid_auto_flow": null,
            "grid_auto_rows": null,
            "grid_column": null,
            "grid_gap": null,
            "grid_row": null,
            "grid_template_areas": null,
            "grid_template_columns": null,
            "grid_template_rows": null,
            "height": null,
            "justify_content": null,
            "justify_items": null,
            "left": null,
            "margin": null,
            "max_height": null,
            "max_width": null,
            "min_height": null,
            "min_width": null,
            "object_fit": null,
            "object_position": null,
            "order": null,
            "overflow": null,
            "overflow_x": null,
            "overflow_y": null,
            "padding": null,
            "right": null,
            "top": null,
            "visibility": null,
            "width": null
          }
        },
        "d812f6c3298840f0acfe15bde118f2e3": {
          "model_module": "@jupyter-widgets/controls",
          "model_name": "DescriptionStyleModel",
          "model_module_version": "1.5.0",
          "state": {
            "_model_module": "@jupyter-widgets/controls",
            "_model_module_version": "1.5.0",
            "_model_name": "DescriptionStyleModel",
            "_view_count": null,
            "_view_module": "@jupyter-widgets/base",
            "_view_module_version": "1.2.0",
            "_view_name": "StyleView",
            "description_width": ""
          }
        },
        "6552898f055f41398f82a647eeb667ae": {
          "model_module": "@jupyter-widgets/base",
          "model_name": "LayoutModel",
          "model_module_version": "1.2.0",
          "state": {
            "_model_module": "@jupyter-widgets/base",
            "_model_module_version": "1.2.0",
            "_model_name": "LayoutModel",
            "_view_count": null,
            "_view_module": "@jupyter-widgets/base",
            "_view_module_version": "1.2.0",
            "_view_name": "LayoutView",
            "align_content": null,
            "align_items": null,
            "align_self": null,
            "border": null,
            "bottom": null,
            "display": null,
            "flex": null,
            "flex_flow": null,
            "grid_area": null,
            "grid_auto_columns": null,
            "grid_auto_flow": null,
            "grid_auto_rows": null,
            "grid_column": null,
            "grid_gap": null,
            "grid_row": null,
            "grid_template_areas": null,
            "grid_template_columns": null,
            "grid_template_rows": null,
            "height": null,
            "justify_content": null,
            "justify_items": null,
            "left": null,
            "margin": null,
            "max_height": null,
            "max_width": null,
            "min_height": null,
            "min_width": null,
            "object_fit": null,
            "object_position": null,
            "order": null,
            "overflow": null,
            "overflow_x": null,
            "overflow_y": null,
            "padding": null,
            "right": null,
            "top": null,
            "visibility": null,
            "width": null
          }
        },
        "d9cfba4a60d94d2a92401483687f781c": {
          "model_module": "@jupyter-widgets/controls",
          "model_name": "ProgressStyleModel",
          "model_module_version": "1.5.0",
          "state": {
            "_model_module": "@jupyter-widgets/controls",
            "_model_module_version": "1.5.0",
            "_model_name": "ProgressStyleModel",
            "_view_count": null,
            "_view_module": "@jupyter-widgets/base",
            "_view_module_version": "1.2.0",
            "_view_name": "StyleView",
            "bar_color": null,
            "description_width": ""
          }
        },
        "65db57d55f964060b387c98ad69f78df": {
          "model_module": "@jupyter-widgets/base",
          "model_name": "LayoutModel",
          "model_module_version": "1.2.0",
          "state": {
            "_model_module": "@jupyter-widgets/base",
            "_model_module_version": "1.2.0",
            "_model_name": "LayoutModel",
            "_view_count": null,
            "_view_module": "@jupyter-widgets/base",
            "_view_module_version": "1.2.0",
            "_view_name": "LayoutView",
            "align_content": null,
            "align_items": null,
            "align_self": null,
            "border": null,
            "bottom": null,
            "display": null,
            "flex": null,
            "flex_flow": null,
            "grid_area": null,
            "grid_auto_columns": null,
            "grid_auto_flow": null,
            "grid_auto_rows": null,
            "grid_column": null,
            "grid_gap": null,
            "grid_row": null,
            "grid_template_areas": null,
            "grid_template_columns": null,
            "grid_template_rows": null,
            "height": null,
            "justify_content": null,
            "justify_items": null,
            "left": null,
            "margin": null,
            "max_height": null,
            "max_width": null,
            "min_height": null,
            "min_width": null,
            "object_fit": null,
            "object_position": null,
            "order": null,
            "overflow": null,
            "overflow_x": null,
            "overflow_y": null,
            "padding": null,
            "right": null,
            "top": null,
            "visibility": null,
            "width": null
          }
        },
        "c46b7ea82cd144b6a67b4bcfc5252d0f": {
          "model_module": "@jupyter-widgets/controls",
          "model_name": "DescriptionStyleModel",
          "model_module_version": "1.5.0",
          "state": {
            "_model_module": "@jupyter-widgets/controls",
            "_model_module_version": "1.5.0",
            "_model_name": "DescriptionStyleModel",
            "_view_count": null,
            "_view_module": "@jupyter-widgets/base",
            "_view_module_version": "1.2.0",
            "_view_name": "StyleView",
            "description_width": ""
          }
        }
      }
    }
  },
  "cells": [
    {
      "cell_type": "markdown",
      "source": [
        ">[Naive RAG vs GraphRAG with Neo4J & Weaviate](#scrollTo=n3QFDMrgAkCo)\n",
        "\n",
        ">>[Install Dependencies](#scrollTo=n3QFDMrgAkCo)\n",
        "\n",
        ">>[Write Documents to Weaviate Cloud](#scrollTo=nqwuGr0Xhgtm)\n",
        "\n",
        ">>[Classic RAG with OpenAI](#scrollTo=-uAAWPQXBUdX)\n",
        "\n",
        ">>[Graph RAG](#scrollTo=zzBnUF4bBYKG)\n",
        "\n",
        ">>>[Build a Graph with Neo4J](#scrollTo=zzBnUF4bBYKG)\n",
        "\n",
        ">>>[Extract Relevant Entities](#scrollTo=FVzpKJViBiJT)\n",
        "\n",
        ">>>[Summarize Nodes and Communities](#scrollTo=j1wAsUfIBrGc)\n",
        "\n",
        ">>>[Write the Entities to Weaviate](#scrollTo=n105cc-_B9bN)\n",
        "\n"
      ],
      "metadata": {
        "colab_type": "toc",
        "id": "GXFxB5p3CPfX"
      }
    },
    {
      "cell_type": "markdown",
      "source": [
        "# Naive RAG vs GraphRAG with Neo4J & Weaviate\n",
        "\n",
        "In this recipe, we will be walking through 2 ways of doing RAG:\n",
        "\n",
        "1. Classic RAG where we do simple vector search, followed be answer generation based on this context\n",
        "2. Graph RAG, making use of both vector search, combined by a graph representation of our dataset including community and node summaries\n",
        "\n",
        "For this example, we will be using a generated dataset called \"Financial Contracts\", that lists (fake) contracts sugned between individuals and companies.\n",
        "\n",
        "## Install Dependencies"
      ],
      "metadata": {
        "id": "n3QFDMrgAkCo"
      }
    },
    {
      "cell_type": "code",
      "source": [
        "!pip install --quiet --upgrade git+https://github.com/neo4j-contrib/ms-graphrag-neo4j.git datasets weaviate-client neo4j-graphrag"
      ],
      "metadata": {
        "colab": {
          "base_uri": "https://localhost:8080/"
        },
        "id": "Wahz0DAFT4p7",
        "outputId": "e3e4da7a-4c60-4d1a-8428-457dfe1408cb"
      },
      "execution_count": null,
      "outputs": [
        {
          "output_type": "stream",
          "name": "stdout",
          "text": [
            "  Installing build dependencies ... \u001b[?25l\u001b[?25hdone\n",
            "  Getting requirements to build wheel ... \u001b[?25l\u001b[?25hdone\n",
            "  Preparing metadata (pyproject.toml) ... \u001b[?25l\u001b[?25hdone\n",
            "\u001b[2K   \u001b[90m━━━━━━━━━━━━━━━━━━━━━━━━━━━━━━━━━━━━━━━━\u001b[0m \u001b[32m491.2/491.2 kB\u001b[0m \u001b[31m12.3 MB/s\u001b[0m eta \u001b[36m0:00:00\u001b[0m\n",
            "\u001b[2K   \u001b[90m━━━━━━━━━━━━━━━━━━━━━━━━━━━━━━━━━━━━━━━━\u001b[0m \u001b[32m353.9/353.9 kB\u001b[0m \u001b[31m7.1 MB/s\u001b[0m eta \u001b[36m0:00:00\u001b[0m\n",
            "\u001b[2K   \u001b[90m━━━━━━━━━━━━━━━━━━━━━━━━━━━━━━━━━━━━━━━━\u001b[0m \u001b[32m43.5/43.5 kB\u001b[0m \u001b[31m741.9 kB/s\u001b[0m eta \u001b[36m0:00:00\u001b[0m\n",
            "\u001b[2K   \u001b[90m━━━━━━━━━━━━━━━━━━━━━━━━━━━━━━━━━━━━━━━━\u001b[0m \u001b[32m171.3/171.3 kB\u001b[0m \u001b[31m5.5 MB/s\u001b[0m eta \u001b[36m0:00:00\u001b[0m\n",
            "\u001b[2K   \u001b[90m━━━━━━━━━━━━━━━━━━━━━━━━━━━━━━━━━━━━━━━━\u001b[0m \u001b[32m223.8/223.8 kB\u001b[0m \u001b[31m12.6 MB/s\u001b[0m eta \u001b[36m0:00:00\u001b[0m\n",
            "\u001b[2K   \u001b[90m━━━━━━━━━━━━━━━━━━━━━━━━━━━━━━━━━━━━━━━━\u001b[0m \u001b[32m116.3/116.3 kB\u001b[0m \u001b[31m6.1 MB/s\u001b[0m eta \u001b[36m0:00:00\u001b[0m\n",
            "\u001b[2K   \u001b[90m━━━━━━━━━━━━━━━━━━━━━━━━━━━━━━━━━━━━━━━━\u001b[0m \u001b[32m183.9/183.9 kB\u001b[0m \u001b[31m10.2 MB/s\u001b[0m eta \u001b[36m0:00:00\u001b[0m\n",
            "\u001b[2K   \u001b[90m━━━━━━━━━━━━━━━━━━━━━━━━━━━━━━━━━━━━━━━━\u001b[0m \u001b[32m2.5/2.5 MB\u001b[0m \u001b[31m48.3 MB/s\u001b[0m eta \u001b[36m0:00:00\u001b[0m\n",
            "\u001b[2K   \u001b[90m━━━━━━━━━━━━━━━━━━━━━━━━━━━━━━━━━━━━━━━━\u001b[0m \u001b[32m143.5/143.5 kB\u001b[0m \u001b[31m5.9 MB/s\u001b[0m eta \u001b[36m0:00:00\u001b[0m\n",
            "\u001b[2K   \u001b[90m━━━━━━━━━━━━━━━━━━━━━━━━━━━━━━━━━━━━━━━━\u001b[0m \u001b[32m312.3/312.3 kB\u001b[0m \u001b[31m15.0 MB/s\u001b[0m eta \u001b[36m0:00:00\u001b[0m\n",
            "\u001b[2K   \u001b[90m━━━━━━━━━━━━━━━━━━━━━━━━━━━━━━━━━━━━━━━━\u001b[0m \u001b[32m302.3/302.3 kB\u001b[0m \u001b[31m17.1 MB/s\u001b[0m eta \u001b[36m0:00:00\u001b[0m\n",
            "\u001b[2K   \u001b[90m━━━━━━━━━━━━━━━━━━━━━━━━━━━━━━━━━━━━━━━━\u001b[0m \u001b[32m194.8/194.8 kB\u001b[0m \u001b[31m11.7 MB/s\u001b[0m eta \u001b[36m0:00:00\u001b[0m\n",
            "\u001b[?25h  Building wheel for ms_graphrag_neo4j (pyproject.toml) ... \u001b[?25l\u001b[?25hdone\n",
            "\u001b[31mERROR: pip's dependency resolver does not currently take into account all the packages that are installed. This behaviour is the source of the following dependency conflicts.\n",
            "torch 2.6.0+cu124 requires nvidia-cublas-cu12==12.4.5.8; platform_system == \"Linux\" and platform_machine == \"x86_64\", but you have nvidia-cublas-cu12 12.5.3.2 which is incompatible.\n",
            "torch 2.6.0+cu124 requires nvidia-cuda-cupti-cu12==12.4.127; platform_system == \"Linux\" and platform_machine == \"x86_64\", but you have nvidia-cuda-cupti-cu12 12.5.82 which is incompatible.\n",
            "torch 2.6.0+cu124 requires nvidia-cuda-nvrtc-cu12==12.4.127; platform_system == \"Linux\" and platform_machine == \"x86_64\", but you have nvidia-cuda-nvrtc-cu12 12.5.82 which is incompatible.\n",
            "torch 2.6.0+cu124 requires nvidia-cuda-runtime-cu12==12.4.127; platform_system == \"Linux\" and platform_machine == \"x86_64\", but you have nvidia-cuda-runtime-cu12 12.5.82 which is incompatible.\n",
            "torch 2.6.0+cu124 requires nvidia-cudnn-cu12==9.1.0.70; platform_system == \"Linux\" and platform_machine == \"x86_64\", but you have nvidia-cudnn-cu12 9.3.0.75 which is incompatible.\n",
            "torch 2.6.0+cu124 requires nvidia-cufft-cu12==11.2.1.3; platform_system == \"Linux\" and platform_machine == \"x86_64\", but you have nvidia-cufft-cu12 11.2.3.61 which is incompatible.\n",
            "torch 2.6.0+cu124 requires nvidia-curand-cu12==10.3.5.147; platform_system == \"Linux\" and platform_machine == \"x86_64\", but you have nvidia-curand-cu12 10.3.6.82 which is incompatible.\n",
            "torch 2.6.0+cu124 requires nvidia-cusolver-cu12==11.6.1.9; platform_system == \"Linux\" and platform_machine == \"x86_64\", but you have nvidia-cusolver-cu12 11.6.3.83 which is incompatible.\n",
            "torch 2.6.0+cu124 requires nvidia-cusparse-cu12==12.3.1.170; platform_system == \"Linux\" and platform_machine == \"x86_64\", but you have nvidia-cusparse-cu12 12.5.1.3 which is incompatible.\n",
            "torch 2.6.0+cu124 requires nvidia-nvjitlink-cu12==12.4.127; platform_system == \"Linux\" and platform_machine == \"x86_64\", but you have nvidia-nvjitlink-cu12 12.5.82 which is incompatible.\n",
            "gcsfs 2025.3.0 requires fsspec==2025.3.0, but you have fsspec 2024.12.0 which is incompatible.\u001b[0m\u001b[31m\n",
            "\u001b[0m"
          ]
        }
      ]
    },
    {
      "cell_type": "markdown",
      "source": [
        "## Write Documents to Weaviate Cloud\n",
        "\n",
        "To get started, you can use a free Weaviate Sandbox.\n",
        "\n",
        "1. Create a cluster\n",
        "2. Take note of the cluster URL and API key\n",
        "3. Go to 'Embeddings' and turn it on."
      ],
      "metadata": {
        "id": "nqwuGr0Xhgtm"
      }
    },
    {
      "cell_type": "code",
      "source": [
        "import os\n",
        "from getpass import getpass\n",
        "\n",
        "if \"WEAVIATE_API_KEY\" not in os.environ:\n",
        "  os.environ[\"WEAVIATE_API_KEY\"] = getpass(\"Weaviate API Key\")\n",
        "if \"WEAVIATE_URL\" not in os.environ:\n",
        "  os.environ[\"WEAVIATE_URL\"] = getpass(\"Weaviate URL\")"
      ],
      "metadata": {
        "id": "chKCzqNS8CvX",
        "colab": {
          "base_uri": "https://localhost:8080/"
        },
        "outputId": "4a97ee44-d269-4a1e-ffd6-a86ebc4af515"
      },
      "execution_count": null,
      "outputs": [
        {
          "name": "stdout",
          "output_type": "stream",
          "text": [
            "Weaviate API Key··········\n",
            "Weaviate URL··········\n"
          ]
        }
      ]
    },
    {
      "cell_type": "code",
      "source": [
        "import weaviate\n",
        "from weaviate.auth import Auth\n",
        "\n",
        "client = weaviate.connect_to_weaviate_cloud(\n",
        "    cluster_url=os.environ.get(\"WEAVIATE_URL\"),\n",
        "    auth_credentials=Auth.api_key(os.environ.get(\"WEAVIATE_API_KEY\")),\n",
        ")"
      ],
      "metadata": {
        "id": "o5opqllkhzm6"
      },
      "execution_count": null,
      "outputs": []
    },
    {
      "cell_type": "code",
      "source": [
        "from weaviate.classes.config import Configure\n",
        "\n",
        "#client.collections.delete(\"Financial_contracts\")\n",
        "client.collections.create(\n",
        "    \"Financial_contracts\",\n",
        "    description=\"A dataset of financial contracts between indivicuals and/or companies, as well as information on the type of contract and who has authored them.\",\n",
        "    vectorizer_config=Configure.Vectorizer.text2vec_weaviate(),\n",
        ")"
      ],
      "metadata": {
        "id": "0ZzBFSLah2QQ",
        "colab": {
          "base_uri": "https://localhost:8080/"
        },
        "outputId": "8baea5f2-709d-4b25-a3df-a5be7fe52002"
      },
      "execution_count": null,
      "outputs": [
        {
          "output_type": "execute_result",
          "data": {
            "text/plain": [
              "<weaviate.collections.collection.sync.Collection at 0x79f9cd1abcd0>"
            ]
          },
          "metadata": {},
          "execution_count": 33
        }
      ]
    },
    {
      "cell_type": "code",
      "source": [
        "from datasets import load_dataset\n",
        "\n",
        "financial_dataset = load_dataset(\"weaviate/agents\", \"query-agent-financial-contracts\", split=\"train\", streaming=True)"
      ],
      "metadata": {
        "colab": {
          "base_uri": "https://localhost:8080/",
          "height": 49,
          "referenced_widgets": [
            "9e5bc9dfd8884912beff5728ec8bbdc7",
            "eafa00edc14a470881d6f2c904a9ffef",
            "ee06d76d5ef74d9b9d46d1bde06559af",
            "2d8d63fcc23c4f31ad2f839abaa6ea0b",
            "606b4ad123d54df1901ce7587ae19d80",
            "f88429672e6442af9aead3c5cbfe96f2",
            "d812f6c3298840f0acfe15bde118f2e3",
            "6552898f055f41398f82a647eeb667ae",
            "d9cfba4a60d94d2a92401483687f781c",
            "65db57d55f964060b387c98ad69f78df",
            "c46b7ea82cd144b6a67b4bcfc5252d0f"
          ]
        },
        "id": "KChqfZu8pTZP",
        "outputId": "cce43078-f899-4157-fa1b-c256e9a067be"
      },
      "execution_count": null,
      "outputs": [
        {
          "output_type": "display_data",
          "data": {
            "text/plain": [
              "README.md:   0%|          | 0.00/3.84k [00:00<?, ?B/s]"
            ],
            "application/vnd.jupyter.widget-view+json": {
              "version_major": 2,
              "version_minor": 0,
              "model_id": "9e5bc9dfd8884912beff5728ec8bbdc7"
            }
          },
          "metadata": {}
        }
      ]
    },
    {
      "cell_type": "code",
      "source": [
        "financial_collection = client.collections.get(\"Financial_contracts\")\n",
        "\n",
        "with financial_collection.batch.dynamic() as batch:\n",
        "    for item in financial_dataset:\n",
        "        batch.add_object(properties=item[\"properties\"])"
      ],
      "metadata": {
        "id": "sigF9C03iBki"
      },
      "execution_count": null,
      "outputs": []
    },
    {
      "cell_type": "markdown",
      "source": [
        "## Classic RAG with OpenAI"
      ],
      "metadata": {
        "id": "-uAAWPQXBUdX"
      }
    },
    {
      "cell_type": "code",
      "source": [
        "from openai import AsyncOpenAI\n",
        "\n",
        "openai_client = AsyncOpenAI()\n",
        "\n",
        "async def achat(messages, model=\"gpt-4o\", temperature=0, config={}):\n",
        "    response = await openai_client.chat.completions.create(\n",
        "        model=model,\n",
        "        temperature=temperature,\n",
        "        messages=messages,\n",
        "        **config,\n",
        "    )\n",
        "    return response.choices[0].message.content"
      ],
      "metadata": {
        "id": "WtoZ2oCIwpRL"
      },
      "execution_count": null,
      "outputs": []
    },
    {
      "cell_type": "code",
      "source": [
        "async def classic_rag(input: str) -> str:\n",
        "    context = [str(obj.properties) for obj in financial_collection.query.near_text(query = input, limit=3).objects]\n",
        "    messages = [\n",
        "    {\n",
        "        \"role\": \"user\",\n",
        "        \"content\": \"Based on the given context: {context} \\n\\n Answer the following question: {question}\".format(context=context, question=input)\n",
        "    },\n",
        "    ]\n",
        "    output = await achat(messages, model=\"gpt-4o\")\n",
        "    return output"
      ],
      "metadata": {
        "colab": {
          "base_uri": "https://localhost:8080/"
        },
        "id": "S3oJUcHF7IhA",
        "outputId": "db93a648-4d08-47e3-e95b-7071afe5ed7d"
      },
      "execution_count": null,
      "outputs": [
        {
          "output_type": "execute_result",
          "data": {
            "text/plain": [
              "<coroutine object classic_rag at 0x79f9cb7b63e0>"
            ]
          },
          "metadata": {},
          "execution_count": 49
        }
      ]
    },
    {
      "cell_type": "code",
      "source": [
        "response = await classic_rag(\"What do you know about Weaviate\")\n",
        "print(response)"
      ],
      "metadata": {
        "colab": {
          "base_uri": "https://localhost:8080/"
        },
        "id": "6Cv88Dv883ST",
        "outputId": "8a62a37b-4750-45cb-9cea-86dbb0165d09"
      },
      "execution_count": null,
      "outputs": [
        {
          "output_type": "stream",
          "name": "stdout",
          "text": [
            "Based on the provided context, Weaviate is a corporation involved in multiple partnership agreements with OpenAI. Here are some details about Weaviate:\n",
            "\n",
            "1. **Location and Legal Organization**:\n",
            "   - In the March 2022 agreement, Weaviate is described as a corporation organized under the laws of the State of Delaware, with its principal place of business at 123 Innovation Drive, Wilmington, DE.\n",
            "   - In the April 2023 agreement, Weaviate is located at 123 Innovation Drive, Tech City.\n",
            "   - In the November 2023 agreement, Weaviate is described as a corporation organized under the laws of the state of California, with its principal office located at 123 Innovation Drive, San Francisco, CA.\n",
            "\n",
            "2. **Partnerships with OpenAI**:\n",
            "   - Weaviate has entered into multiple partnership agreements with OpenAI to collaborate on projects related to artificial intelligence.\n",
            "   - The agreements outline financial contributions, responsibilities, and profit-sharing arrangements between Weaviate and OpenAI.\n",
            "\n",
            "3. **Responsibilities**:\n",
            "   - In the April 2023 agreement, Weaviate is responsible for overseeing project management and client relations.\n",
            "   - In the November 2023 agreement, Weaviate is responsible for the marketing and promotion of joint projects.\n",
            "\n",
            "4. **Financial Contributions**:\n",
            "   - Weaviate has made various financial contributions to the partnerships, with specific amounts mentioned in each agreement.\n",
            "\n",
            "5. **Profit Sharing**:\n",
            "   - In the November 2023 agreement, profits from joint projects are to be shared equally between Weaviate and OpenAI.\n",
            "\n",
            "6. **Key Personnel**:\n",
            "   - Mark Robson is mentioned as a primary contact point from Weaviate in the March 2022 agreement.\n",
            "   - Johnathan Smith is listed as the CEO of Weaviate in the November 2023 agreement.\n",
            "\n",
            "Overall, Weaviate appears to be an active participant in collaborative efforts with OpenAI, focusing on AI-driven projects and sharing responsibilities and profits with its partner.\n"
          ]
        }
      ]
    },
    {
      "cell_type": "markdown",
      "source": [
        "## Graph RAG\n",
        "\n",
        "### Build a Graph with Neo4J\n"
      ],
      "metadata": {
        "id": "zzBnUF4bBYKG"
      }
    },
    {
      "cell_type": "code",
      "execution_count": null,
      "metadata": {
        "id": "TKTTyhgzT16d",
        "colab": {
          "base_uri": "https://localhost:8080/",
          "height": 365
        },
        "outputId": "fad60128-6c25-4549-db9e-49b1f39e5a84"
      },
      "outputs": [
        {
          "output_type": "error",
          "ename": "KeyboardInterrupt",
          "evalue": "Interrupted by user",
          "traceback": [
            "\u001b[0;31m---------------------------------------------------------------------------\u001b[0m",
            "\u001b[0;31mKeyboardInterrupt\u001b[0m                         Traceback (most recent call last)",
            "\u001b[0;32m<ipython-input-51-06c15cf86e86>\u001b[0m in \u001b[0;36m<cell line: 0>\u001b[0;34m()\u001b[0m\n\u001b[1;32m      8\u001b[0m \u001b[0;31m# Use Neo4j Sandbox - Blank Project https://sandbox.neo4j.com/\u001b[0m\u001b[0;34m\u001b[0m\u001b[0;34m\u001b[0m\u001b[0m\n\u001b[1;32m      9\u001b[0m \u001b[0;34m\u001b[0m\u001b[0m\n\u001b[0;32m---> 10\u001b[0;31m \u001b[0mos\u001b[0m\u001b[0;34m.\u001b[0m\u001b[0menviron\u001b[0m\u001b[0;34m[\u001b[0m\u001b[0;34m\"OPENAI_API_KEY\"\u001b[0m\u001b[0;34m]\u001b[0m\u001b[0;34m=\u001b[0m \u001b[0mgetpass\u001b[0m\u001b[0;34m(\u001b[0m\u001b[0;34m\"Openai API Key:\"\u001b[0m\u001b[0;34m)\u001b[0m\u001b[0;34m\u001b[0m\u001b[0;34m\u001b[0m\u001b[0m\n\u001b[0m\u001b[1;32m     11\u001b[0m \u001b[0mos\u001b[0m\u001b[0;34m.\u001b[0m\u001b[0menviron\u001b[0m\u001b[0;34m[\u001b[0m\u001b[0;34m\"NEO4J_URI\"\u001b[0m\u001b[0;34m]\u001b[0m\u001b[0;34m=\u001b[0m\u001b[0;34m\"bolt://3.218.248.139:7687\"\u001b[0m\u001b[0;34m\u001b[0m\u001b[0;34m\u001b[0m\u001b[0m\n\u001b[1;32m     12\u001b[0m \u001b[0mos\u001b[0m\u001b[0;34m.\u001b[0m\u001b[0menviron\u001b[0m\u001b[0;34m[\u001b[0m\u001b[0;34m\"NEO4J_USERNAME\"\u001b[0m\u001b[0;34m]\u001b[0m\u001b[0;34m=\u001b[0m\u001b[0;34m\"neo4j\"\u001b[0m\u001b[0;34m\u001b[0m\u001b[0;34m\u001b[0m\u001b[0m\n",
            "\u001b[0;32m/usr/local/lib/python3.11/dist-packages/ipykernel/kernelbase.py\u001b[0m in \u001b[0;36mgetpass\u001b[0;34m(self, prompt, stream)\u001b[0m\n\u001b[1;32m   1157\u001b[0m                 \u001b[0mstacklevel\u001b[0m\u001b[0;34m=\u001b[0m\u001b[0;36m2\u001b[0m\u001b[0;34m,\u001b[0m\u001b[0;34m\u001b[0m\u001b[0;34m\u001b[0m\u001b[0m\n\u001b[1;32m   1158\u001b[0m             )\n\u001b[0;32m-> 1159\u001b[0;31m         return self._input_request(\n\u001b[0m\u001b[1;32m   1160\u001b[0m             \u001b[0mprompt\u001b[0m\u001b[0;34m,\u001b[0m\u001b[0;34m\u001b[0m\u001b[0;34m\u001b[0m\u001b[0m\n\u001b[1;32m   1161\u001b[0m             \u001b[0mself\u001b[0m\u001b[0;34m.\u001b[0m\u001b[0m_parent_ident\u001b[0m\u001b[0;34m[\u001b[0m\u001b[0;34m\"shell\"\u001b[0m\u001b[0;34m]\u001b[0m\u001b[0;34m,\u001b[0m\u001b[0;34m\u001b[0m\u001b[0;34m\u001b[0m\u001b[0m\n",
            "\u001b[0;32m/usr/local/lib/python3.11/dist-packages/ipykernel/kernelbase.py\u001b[0m in \u001b[0;36m_input_request\u001b[0;34m(self, prompt, ident, parent, password)\u001b[0m\n\u001b[1;32m   1217\u001b[0m             \u001b[0;32mexcept\u001b[0m \u001b[0mKeyboardInterrupt\u001b[0m\u001b[0;34m:\u001b[0m\u001b[0;34m\u001b[0m\u001b[0;34m\u001b[0m\u001b[0m\n\u001b[1;32m   1218\u001b[0m                 \u001b[0;31m# re-raise KeyboardInterrupt, to truncate traceback\u001b[0m\u001b[0;34m\u001b[0m\u001b[0;34m\u001b[0m\u001b[0m\n\u001b[0;32m-> 1219\u001b[0;31m                 \u001b[0;32mraise\u001b[0m \u001b[0mKeyboardInterrupt\u001b[0m\u001b[0;34m(\u001b[0m\u001b[0;34m\"Interrupted by user\"\u001b[0m\u001b[0;34m)\u001b[0m \u001b[0;32mfrom\u001b[0m \u001b[0;32mNone\u001b[0m\u001b[0;34m\u001b[0m\u001b[0;34m\u001b[0m\u001b[0m\n\u001b[0m\u001b[1;32m   1220\u001b[0m             \u001b[0;32mexcept\u001b[0m \u001b[0mException\u001b[0m\u001b[0;34m:\u001b[0m\u001b[0;34m\u001b[0m\u001b[0;34m\u001b[0m\u001b[0m\n\u001b[1;32m   1221\u001b[0m                 \u001b[0mself\u001b[0m\u001b[0;34m.\u001b[0m\u001b[0mlog\u001b[0m\u001b[0;34m.\u001b[0m\u001b[0mwarning\u001b[0m\u001b[0;34m(\u001b[0m\u001b[0;34m\"Invalid Message:\"\u001b[0m\u001b[0;34m,\u001b[0m \u001b[0mexc_info\u001b[0m\u001b[0;34m=\u001b[0m\u001b[0;32mTrue\u001b[0m\u001b[0;34m)\u001b[0m\u001b[0;34m\u001b[0m\u001b[0;34m\u001b[0m\u001b[0m\n",
            "\u001b[0;31mKeyboardInterrupt\u001b[0m: Interrupted by user"
          ]
        }
      ],
      "source": [
        "import os\n",
        "from getpass import getpass\n",
        "\n",
        "from ms_graphrag_neo4j import MsGraphRAG\n",
        "from neo4j import GraphDatabase\n",
        "import pandas as pd\n",
        "\n",
        "# Use Neo4j Sandbox - Blank Project https://sandbox.neo4j.com/\n",
        "\n",
        "os.environ[\"OPENAI_API_KEY\"]= getpass(\"Openai API Key:\")\n",
        "os.environ[\"NEO4J_URI\"]=\"bolt://3.218.248.139:7687\"\n",
        "os.environ[\"NEO4J_USERNAME\"]=\"neo4j\"\n",
        "os.environ[\"NEO4J_PASSWORD\"]=\"outfit-streams-oxygens\""
      ]
    },
    {
      "cell_type": "code",
      "source": [
        "driver = GraphDatabase.driver(\n",
        "    os.environ[\"NEO4J_URI\"],\n",
        "    auth=(os.environ[\"NEO4J_USERNAME\"], os.environ[\"NEO4J_PASSWORD\"]),\n",
        "    #notifications_min_severity=\"OFF\",\n",
        ")\n",
        "ms_graph = MsGraphRAG(driver=driver, model=\"gpt-4o\", max_workers=10)"
      ],
      "metadata": {
        "id": "kYI-du6JUI00",
        "colab": {
          "base_uri": "https://localhost:8080/"
        },
        "outputId": "1b4607c4-230e-45c0-b778-4b48beb6083a"
      },
      "execution_count": null,
      "outputs": [
        {
          "output_type": "execute_result",
          "data": {
            "text/plain": [
              "[]"
            ]
          },
          "metadata": {},
          "execution_count": 3
        }
      ]
    },
    {
      "cell_type": "code",
      "source": [
        "import pandas as pd\n",
        "\n",
        "# Login using e.g. `huggingface-cli login` to access this dataset\n",
        "df = pd.read_parquet(\"hf://datasets/weaviate/agents/query-agent/financial-contracts/0001.parquet\")\n",
        "df.head()"
      ],
      "metadata": {
        "colab": {
          "base_uri": "https://localhost:8080/",
          "height": 333
        },
        "id": "IkgiLkpyua2D",
        "outputId": "5970840f-cb78-4e60-fb2f-39b56832ac8a"
      },
      "execution_count": null,
      "outputs": [
        {
          "output_type": "stream",
          "name": "stderr",
          "text": [
            "/usr/local/lib/python3.11/dist-packages/huggingface_hub/utils/_auth.py:94: UserWarning: \n",
            "The secret `HF_TOKEN` does not exist in your Colab secrets.\n",
            "To authenticate with the Hugging Face Hub, create a token in your settings tab (https://huggingface.co/settings/tokens), set it as secret in your Google Colab and restart your session.\n",
            "You will be able to reuse this secret in all of your notebooks.\n",
            "Please note that authentication is recommended but still optional to access public models or datasets.\n",
            "  warnings.warn(\n"
          ]
        },
        {
          "output_type": "execute_result",
          "data": {
            "text/plain": [
              "                                          properties  \\\n",
              "0  {'date': '2023-03-15T14:30:00+00:00', 'contrac...   \n",
              "1  {'date': '2023-03-15T10:30:00+00:00', 'contrac...   \n",
              "2  {'date': '2022-03-15T09:30:00+00:00', 'contrac...   \n",
              "3  {'date': '2023-09-15T14:23:00+00:00', 'contrac...   \n",
              "4  {'date': '2024-03-15T10:30:00+00:00', 'contrac...   \n",
              "\n",
              "                                              vector  \n",
              "0  [-0.02571106, 0.028182983, 0.011955261, -0.014...  \n",
              "1  [0.013244629, 0.015045166, 0.0042381287, -0.04...  \n",
              "2  [-0.041625977, 0.013809204, -0.011222839, 0.03...  \n",
              "3  [-0.006462097, -0.003780365, -0.064453125, -0....  \n",
              "4  [-0.022064209, 0.04623413, -0.0284729, 0.00141...  "
            ],
            "text/html": [
              "\n",
              "  <div id=\"df-9b8d6a60-095b-403b-808f-8be77e200aed\" class=\"colab-df-container\">\n",
              "    <div>\n",
              "<style scoped>\n",
              "    .dataframe tbody tr th:only-of-type {\n",
              "        vertical-align: middle;\n",
              "    }\n",
              "\n",
              "    .dataframe tbody tr th {\n",
              "        vertical-align: top;\n",
              "    }\n",
              "\n",
              "    .dataframe thead th {\n",
              "        text-align: right;\n",
              "    }\n",
              "</style>\n",
              "<table border=\"1\" class=\"dataframe\">\n",
              "  <thead>\n",
              "    <tr style=\"text-align: right;\">\n",
              "      <th></th>\n",
              "      <th>properties</th>\n",
              "      <th>vector</th>\n",
              "    </tr>\n",
              "  </thead>\n",
              "  <tbody>\n",
              "    <tr>\n",
              "      <th>0</th>\n",
              "      <td>{'date': '2023-03-15T14:30:00+00:00', 'contrac...</td>\n",
              "      <td>[-0.02571106, 0.028182983, 0.011955261, -0.014...</td>\n",
              "    </tr>\n",
              "    <tr>\n",
              "      <th>1</th>\n",
              "      <td>{'date': '2023-03-15T10:30:00+00:00', 'contrac...</td>\n",
              "      <td>[0.013244629, 0.015045166, 0.0042381287, -0.04...</td>\n",
              "    </tr>\n",
              "    <tr>\n",
              "      <th>2</th>\n",
              "      <td>{'date': '2022-03-15T09:30:00+00:00', 'contrac...</td>\n",
              "      <td>[-0.041625977, 0.013809204, -0.011222839, 0.03...</td>\n",
              "    </tr>\n",
              "    <tr>\n",
              "      <th>3</th>\n",
              "      <td>{'date': '2023-09-15T14:23:00+00:00', 'contrac...</td>\n",
              "      <td>[-0.006462097, -0.003780365, -0.064453125, -0....</td>\n",
              "    </tr>\n",
              "    <tr>\n",
              "      <th>4</th>\n",
              "      <td>{'date': '2024-03-15T10:30:00+00:00', 'contrac...</td>\n",
              "      <td>[-0.022064209, 0.04623413, -0.0284729, 0.00141...</td>\n",
              "    </tr>\n",
              "  </tbody>\n",
              "</table>\n",
              "</div>\n",
              "    <div class=\"colab-df-buttons\">\n",
              "\n",
              "  <div class=\"colab-df-container\">\n",
              "    <button class=\"colab-df-convert\" onclick=\"convertToInteractive('df-9b8d6a60-095b-403b-808f-8be77e200aed')\"\n",
              "            title=\"Convert this dataframe to an interactive table.\"\n",
              "            style=\"display:none;\">\n",
              "\n",
              "  <svg xmlns=\"http://www.w3.org/2000/svg\" height=\"24px\" viewBox=\"0 -960 960 960\">\n",
              "    <path d=\"M120-120v-720h720v720H120Zm60-500h600v-160H180v160Zm220 220h160v-160H400v160Zm0 220h160v-160H400v160ZM180-400h160v-160H180v160Zm440 0h160v-160H620v160ZM180-180h160v-160H180v160Zm440 0h160v-160H620v160Z\"/>\n",
              "  </svg>\n",
              "    </button>\n",
              "\n",
              "  <style>\n",
              "    .colab-df-container {\n",
              "      display:flex;\n",
              "      gap: 12px;\n",
              "    }\n",
              "\n",
              "    .colab-df-convert {\n",
              "      background-color: #E8F0FE;\n",
              "      border: none;\n",
              "      border-radius: 50%;\n",
              "      cursor: pointer;\n",
              "      display: none;\n",
              "      fill: #1967D2;\n",
              "      height: 32px;\n",
              "      padding: 0 0 0 0;\n",
              "      width: 32px;\n",
              "    }\n",
              "\n",
              "    .colab-df-convert:hover {\n",
              "      background-color: #E2EBFA;\n",
              "      box-shadow: 0px 1px 2px rgba(60, 64, 67, 0.3), 0px 1px 3px 1px rgba(60, 64, 67, 0.15);\n",
              "      fill: #174EA6;\n",
              "    }\n",
              "\n",
              "    .colab-df-buttons div {\n",
              "      margin-bottom: 4px;\n",
              "    }\n",
              "\n",
              "    [theme=dark] .colab-df-convert {\n",
              "      background-color: #3B4455;\n",
              "      fill: #D2E3FC;\n",
              "    }\n",
              "\n",
              "    [theme=dark] .colab-df-convert:hover {\n",
              "      background-color: #434B5C;\n",
              "      box-shadow: 0px 1px 3px 1px rgba(0, 0, 0, 0.15);\n",
              "      filter: drop-shadow(0px 1px 2px rgba(0, 0, 0, 0.3));\n",
              "      fill: #FFFFFF;\n",
              "    }\n",
              "  </style>\n",
              "\n",
              "    <script>\n",
              "      const buttonEl =\n",
              "        document.querySelector('#df-9b8d6a60-095b-403b-808f-8be77e200aed button.colab-df-convert');\n",
              "      buttonEl.style.display =\n",
              "        google.colab.kernel.accessAllowed ? 'block' : 'none';\n",
              "\n",
              "      async function convertToInteractive(key) {\n",
              "        const element = document.querySelector('#df-9b8d6a60-095b-403b-808f-8be77e200aed');\n",
              "        const dataTable =\n",
              "          await google.colab.kernel.invokeFunction('convertToInteractive',\n",
              "                                                    [key], {});\n",
              "        if (!dataTable) return;\n",
              "\n",
              "        const docLinkHtml = 'Like what you see? Visit the ' +\n",
              "          '<a target=\"_blank\" href=https://colab.research.google.com/notebooks/data_table.ipynb>data table notebook</a>'\n",
              "          + ' to learn more about interactive tables.';\n",
              "        element.innerHTML = '';\n",
              "        dataTable['output_type'] = 'display_data';\n",
              "        await google.colab.output.renderOutput(dataTable, element);\n",
              "        const docLink = document.createElement('div');\n",
              "        docLink.innerHTML = docLinkHtml;\n",
              "        element.appendChild(docLink);\n",
              "      }\n",
              "    </script>\n",
              "  </div>\n",
              "\n",
              "\n",
              "<div id=\"df-f5c8f6ac-295e-4723-a3ba-bc38d31e5db8\">\n",
              "  <button class=\"colab-df-quickchart\" onclick=\"quickchart('df-f5c8f6ac-295e-4723-a3ba-bc38d31e5db8')\"\n",
              "            title=\"Suggest charts\"\n",
              "            style=\"display:none;\">\n",
              "\n",
              "<svg xmlns=\"http://www.w3.org/2000/svg\" height=\"24px\"viewBox=\"0 0 24 24\"\n",
              "     width=\"24px\">\n",
              "    <g>\n",
              "        <path d=\"M19 3H5c-1.1 0-2 .9-2 2v14c0 1.1.9 2 2 2h14c1.1 0 2-.9 2-2V5c0-1.1-.9-2-2-2zM9 17H7v-7h2v7zm4 0h-2V7h2v10zm4 0h-2v-4h2v4z\"/>\n",
              "    </g>\n",
              "</svg>\n",
              "  </button>\n",
              "\n",
              "<style>\n",
              "  .colab-df-quickchart {\n",
              "      --bg-color: #E8F0FE;\n",
              "      --fill-color: #1967D2;\n",
              "      --hover-bg-color: #E2EBFA;\n",
              "      --hover-fill-color: #174EA6;\n",
              "      --disabled-fill-color: #AAA;\n",
              "      --disabled-bg-color: #DDD;\n",
              "  }\n",
              "\n",
              "  [theme=dark] .colab-df-quickchart {\n",
              "      --bg-color: #3B4455;\n",
              "      --fill-color: #D2E3FC;\n",
              "      --hover-bg-color: #434B5C;\n",
              "      --hover-fill-color: #FFFFFF;\n",
              "      --disabled-bg-color: #3B4455;\n",
              "      --disabled-fill-color: #666;\n",
              "  }\n",
              "\n",
              "  .colab-df-quickchart {\n",
              "    background-color: var(--bg-color);\n",
              "    border: none;\n",
              "    border-radius: 50%;\n",
              "    cursor: pointer;\n",
              "    display: none;\n",
              "    fill: var(--fill-color);\n",
              "    height: 32px;\n",
              "    padding: 0;\n",
              "    width: 32px;\n",
              "  }\n",
              "\n",
              "  .colab-df-quickchart:hover {\n",
              "    background-color: var(--hover-bg-color);\n",
              "    box-shadow: 0 1px 2px rgba(60, 64, 67, 0.3), 0 1px 3px 1px rgba(60, 64, 67, 0.15);\n",
              "    fill: var(--button-hover-fill-color);\n",
              "  }\n",
              "\n",
              "  .colab-df-quickchart-complete:disabled,\n",
              "  .colab-df-quickchart-complete:disabled:hover {\n",
              "    background-color: var(--disabled-bg-color);\n",
              "    fill: var(--disabled-fill-color);\n",
              "    box-shadow: none;\n",
              "  }\n",
              "\n",
              "  .colab-df-spinner {\n",
              "    border: 2px solid var(--fill-color);\n",
              "    border-color: transparent;\n",
              "    border-bottom-color: var(--fill-color);\n",
              "    animation:\n",
              "      spin 1s steps(1) infinite;\n",
              "  }\n",
              "\n",
              "  @keyframes spin {\n",
              "    0% {\n",
              "      border-color: transparent;\n",
              "      border-bottom-color: var(--fill-color);\n",
              "      border-left-color: var(--fill-color);\n",
              "    }\n",
              "    20% {\n",
              "      border-color: transparent;\n",
              "      border-left-color: var(--fill-color);\n",
              "      border-top-color: var(--fill-color);\n",
              "    }\n",
              "    30% {\n",
              "      border-color: transparent;\n",
              "      border-left-color: var(--fill-color);\n",
              "      border-top-color: var(--fill-color);\n",
              "      border-right-color: var(--fill-color);\n",
              "    }\n",
              "    40% {\n",
              "      border-color: transparent;\n",
              "      border-right-color: var(--fill-color);\n",
              "      border-top-color: var(--fill-color);\n",
              "    }\n",
              "    60% {\n",
              "      border-color: transparent;\n",
              "      border-right-color: var(--fill-color);\n",
              "    }\n",
              "    80% {\n",
              "      border-color: transparent;\n",
              "      border-right-color: var(--fill-color);\n",
              "      border-bottom-color: var(--fill-color);\n",
              "    }\n",
              "    90% {\n",
              "      border-color: transparent;\n",
              "      border-bottom-color: var(--fill-color);\n",
              "    }\n",
              "  }\n",
              "</style>\n",
              "\n",
              "  <script>\n",
              "    async function quickchart(key) {\n",
              "      const quickchartButtonEl =\n",
              "        document.querySelector('#' + key + ' button');\n",
              "      quickchartButtonEl.disabled = true;  // To prevent multiple clicks.\n",
              "      quickchartButtonEl.classList.add('colab-df-spinner');\n",
              "      try {\n",
              "        const charts = await google.colab.kernel.invokeFunction(\n",
              "            'suggestCharts', [key], {});\n",
              "      } catch (error) {\n",
              "        console.error('Error during call to suggestCharts:', error);\n",
              "      }\n",
              "      quickchartButtonEl.classList.remove('colab-df-spinner');\n",
              "      quickchartButtonEl.classList.add('colab-df-quickchart-complete');\n",
              "    }\n",
              "    (() => {\n",
              "      let quickchartButtonEl =\n",
              "        document.querySelector('#df-f5c8f6ac-295e-4723-a3ba-bc38d31e5db8 button');\n",
              "      quickchartButtonEl.style.display =\n",
              "        google.colab.kernel.accessAllowed ? 'block' : 'none';\n",
              "    })();\n",
              "  </script>\n",
              "</div>\n",
              "\n",
              "    </div>\n",
              "  </div>\n"
            ],
            "application/vnd.google.colaboratory.intrinsic+json": {
              "type": "dataframe",
              "variable_name": "df",
              "summary": "{\n  \"name\": \"df\",\n  \"rows\": 100,\n  \"fields\": [\n    {\n      \"column\": \"properties\",\n      \"properties\": {\n        \"dtype\": \"object\",\n        \"semantic_type\": \"\",\n        \"description\": \"\"\n      }\n    },\n    {\n      \"column\": \"vector\",\n      \"properties\": {\n        \"dtype\": \"object\",\n        \"semantic_type\": \"\",\n        \"description\": \"\"\n      }\n    }\n  ]\n}"
            }
          },
          "metadata": {},
          "execution_count": 4
        }
      ]
    },
    {
      "cell_type": "code",
      "source": [
        "texts = [el['contract_text'] for el in df['properties']]\n",
        "texts[:2]"
      ],
      "metadata": {
        "colab": {
          "base_uri": "https://localhost:8080/"
        },
        "id": "sB0MwT0X5cIJ",
        "outputId": "484ef033-467d-4991-e025-f73fdb743419"
      },
      "execution_count": null,
      "outputs": [
        {
          "output_type": "execute_result",
          "data": {
            "text/plain": [
              "['PARTNERSHIP AGREEMENT\\n\\nThis Partnership Agreement (\"Agreement\") is made and entered into as of the 15th day of March, 2023, by and between Weaviate, a company registered in the State of California, and OpenAI, a research organization based in San Francisco, California.\\n\\n1. Purpose\\nThe parties agree to establish a partnership to collaborate on artificial intelligence research and development, sharing resources and expertise.\\n\\n2. Contributions\\nWeaviate shall contribute technology resources valued at $112.85 and staff time equivalent to a monetary value of $550.09. OpenAI shall contribute its research expertise and a project management team valued at $98.14.\\n\\n3. Profit Sharing\\nThe net profits generated from joint projects shall be distributed as follows: Weaviate shall receive 60% and OpenAI shall receive 40%.\\n\\n4. Duration\\nThis Agreement shall commence on the date hereof and shall continue in effect for a period of three (3) years, unless terminated earlier in accordance with the provisions herein.\\n\\n5. Termination\\nEither party may terminate this Agreement with a written notice of thirty (30) days. Upon termination, the parties shall settle any outstanding financial obligations.\\n\\nIN WITNESS WHEREOF, the parties hereto have executed this Partnership Agreement as of the date first above written.\\n\\nWeaviate\\n___________________________\\nMark Robson, CEO\\n\\nOpenAI\\n___________________________\\nDanny Williams, Director',\n",
              " 'LOAN AGREEMENT\\n\\nThis Loan Agreement (\"Agreement\") is made and entered into as of the 15th day of March, 2023, by and between Weaviate, a corporation organized and existing under the laws of the State, with a principal office located at 123 Innovation Drive, Tech City, and Mark Robson, an individual residing at 456 Creativity Lane, Idea Town.\\n\\n1. LOAN AMOUNT: Weaviate agrees to loan Mark Robson the total amount of $342.00 (Three Hundred Forty-Two Dollars).\\n\\n2. INTEREST RATE: The loan shall bear an interest rate of 2.68% per annum, calculated on the outstanding balance.\\n\\n3. REPAYMENT: The total amount, including interest, shall be repaid in full within a period of three years from the date of this Agreement. Payments shall be made monthly, with the first payment due on April 15, 2023.\\n\\n4. DEFAULT: In the event of default, the borrower agrees that Weaviate may demand immediate repayment of the entire unpaid balance and accrued interest.\\n\\n5. GOVERNING LAW: This Agreement shall be governed by and construed in accordance with the laws of the State.\\n\\nIN WITNESS WHEREOF, the parties hereto have executed this Loan Agreement as of the date first above written.\\n\\nWeaviate: ____________________  \\nAuthorized Signature\\n\\nMark Robson: __________________  \\nBorrower\\'s Signature']"
            ]
          },
          "metadata": {},
          "execution_count": 5
        }
      ]
    },
    {
      "cell_type": "markdown",
      "source": [
        "### Extract Relevant Entities\n",
        "\n",
        "Next, we will start extracting relevant entities and relations between these entities that we might be interested in."
      ],
      "metadata": {
        "id": "FVzpKJViBiJT"
      }
    },
    {
      "cell_type": "code",
      "source": [
        "allowed_entities = [\"Person\", \"Organization\", \"Location\"]\n",
        "\n",
        "await ms_graph.extract_nodes_and_rels(texts, allowed_entities)"
      ],
      "metadata": {
        "colab": {
          "base_uri": "https://localhost:8080/",
          "height": 53
        },
        "id": "7TuxXPv251Ia",
        "outputId": "2c5698b6-77af-479f-fe14-cd1836fc5b45"
      },
      "execution_count": null,
      "outputs": [
        {
          "output_type": "stream",
          "name": "stderr",
          "text": [
            "Extracting nodes & relationships: 100%|██████████| 100/100 [00:35<00:00,  2.79it/s]\n"
          ]
        },
        {
          "output_type": "execute_result",
          "data": {
            "text/plain": [
              "'Successfuly extracted and imported 281 relationships'"
            ],
            "application/vnd.google.colaboratory.intrinsic+json": {
              "type": "string"
            }
          },
          "metadata": {},
          "execution_count": 6
        }
      ]
    },
    {
      "cell_type": "markdown",
      "source": [
        "### Summarize Nodes and Communities"
      ],
      "metadata": {
        "id": "j1wAsUfIBrGc"
      }
    },
    {
      "cell_type": "code",
      "source": [
        "await ms_graph.summarize_nodes_and_rels()"
      ],
      "metadata": {
        "colab": {
          "base_uri": "https://localhost:8080/",
          "height": 71
        },
        "id": "_ZlhpN9E6cNO",
        "outputId": "ce595971-bd4e-421f-982a-12cb2623eb41"
      },
      "execution_count": null,
      "outputs": [
        {
          "output_type": "stream",
          "name": "stderr",
          "text": [
            "Summarizing nodes: 100%|██████████| 35/35 [00:07<00:00,  4.70it/s]\n",
            "Summarizing relationships: 100%|██████████| 35/35 [00:07<00:00,  4.64it/s]\n"
          ]
        },
        {
          "output_type": "execute_result",
          "data": {
            "text/plain": [
              "'Successfuly summarized nodes and relationships'"
            ],
            "application/vnd.google.colaboratory.intrinsic+json": {
              "type": "string"
            }
          },
          "metadata": {},
          "execution_count": 7
        }
      ]
    },
    {
      "cell_type": "code",
      "source": [
        "await ms_graph.summarize_communities()"
      ],
      "metadata": {
        "colab": {
          "base_uri": "https://localhost:8080/",
          "height": 71
        },
        "id": "L1do4-EX7AAL",
        "outputId": "1cccd3bf-9a72-40e9-e14a-68431dab9425"
      },
      "execution_count": null,
      "outputs": [
        {
          "output_type": "stream",
          "name": "stdout",
          "text": [
            "Leiden algorithm identified 1 community levels with 3 communities on the last level.\n"
          ]
        },
        {
          "output_type": "stream",
          "name": "stderr",
          "text": [
            "Summarizing communities: 100%|██████████| 3/3 [00:08<00:00,  2.95s/it]\n"
          ]
        },
        {
          "output_type": "execute_result",
          "data": {
            "text/plain": [
              "'Generated 3 community summaries'"
            ],
            "application/vnd.google.colaboratory.intrinsic+json": {
              "type": "string"
            }
          },
          "metadata": {},
          "execution_count": 8
        }
      ]
    },
    {
      "cell_type": "code",
      "source": [
        "entities = ms_graph.query(\"\"\"\n",
        "MATCH (e:__Entity__)\n",
        "RETURN e.name AS entity_id, e.summary AS entity_summary\n",
        "\"\"\")"
      ],
      "metadata": {
        "id": "ayWjeNVv7JEy"
      },
      "execution_count": null,
      "outputs": []
    },
    {
      "cell_type": "code",
      "source": [
        "entities[:2]"
      ],
      "metadata": {
        "id": "PvgvNfY88A77",
        "outputId": "9930f1b0-8cc8-428a-adec-4301071c6919",
        "colab": {
          "base_uri": "https://localhost:8080/"
        }
      },
      "execution_count": null,
      "outputs": [
        {
          "output_type": "execute_result",
          "data": {
            "text/plain": [
              "[{'entity_id': 'PALO ALTO',\n",
              "  'entity_summary': \"Palo Alto is the location of OpenAI's principal office\"},\n",
              " {'entity_id': 'JOHNATHAN SMITH',\n",
              "  'entity_summary': 'Johnathan Smith is the CEO of Weaviate. In his capacity as CEO, he serves as the authorized representative of Weaviate, signing the lease agreement on behalf of the Lessor. Additionally, Johnathan Smith acts as the authorized signatory for Weaviate in the partnership agreement, further demonstrating his leadership and responsibility within the organization.'}]"
            ]
          },
          "metadata": {},
          "execution_count": 10
        }
      ]
    },
    {
      "cell_type": "markdown",
      "source": [
        "### Write the Entities to Weaviate"
      ],
      "metadata": {
        "id": "n105cc-_B9bN"
      }
    },
    {
      "cell_type": "code",
      "source": [
        "from weaviate.classes.config import Configure\n",
        "\n",
        "# client.collections.delete(\"Entities\")\n",
        "client.collections.create(\n",
        "    \"Entities\",\n",
        "    description=\"A dataset of entities appearing in the financial contracts between indivicuals and/or companies, as well as information on the type of contract and who has authored them.\",\n",
        "    vectorizer_config=Configure.Vectorizer.text2vec_weaviate(),\n",
        ")"
      ],
      "metadata": {
        "colab": {
          "base_uri": "https://localhost:8080/"
        },
        "id": "Q8iy4rO3qQ0F",
        "outputId": "16eeab30-032d-493b-ea0b-b4133411f4c6"
      },
      "execution_count": null,
      "outputs": [
        {
          "output_type": "execute_result",
          "data": {
            "text/plain": [
              "<weaviate.collections.collection.sync.Collection at 0x79f9cd388350>"
            ]
          },
          "metadata": {},
          "execution_count": 19
        }
      ]
    },
    {
      "cell_type": "code",
      "source": [
        "from datasets import IterableDataset\n",
        "\n",
        "# Define a simple generator\n",
        "def list_generator(data):\n",
        "    for item in data:\n",
        "        yield item\n",
        "\n",
        "# Create the IterableDataset\n",
        "entities_dataset = IterableDataset.from_generator(list_generator, gen_kwargs={\"data\": entities})"
      ],
      "metadata": {
        "id": "4TG2awNzqYpA"
      },
      "execution_count": null,
      "outputs": []
    },
    {
      "cell_type": "code",
      "source": [
        "entities_collection = client.collections.get(\"Entities\")\n",
        "\n",
        "with entities_collection.batch.dynamic() as batch:\n",
        "    for item in entities_dataset:\n",
        "        batch.add_object(properties=item)"
      ],
      "metadata": {
        "id": "fCDnGfGXrKUd"
      },
      "execution_count": null,
      "outputs": []
    },
    {
      "cell_type": "code",
      "source": [
        "from neo4j_graphrag.retrievers import WeaviateNeo4jRetriever\n",
        "\n",
        "retriever = WeaviateNeo4jRetriever(\n",
        "    driver=driver,\n",
        "    client=client,\n",
        "    collection=\"Entities\",\n",
        "    id_property_external=\"entity_id\",\n",
        "    id_property_neo4j=\"name\",\n",
        "    retrieval_query=\"\"\"\n",
        "    WITH collect(node) as nodes\n",
        "WITH collect {\n",
        "    UNWIND nodes as n\n",
        "    MATCH (n)<-[:MENTIONS]->(c:__Chunk__)\n",
        "    WITH c, count(distinct n) as freq\n",
        "    RETURN c.text AS chunkText\n",
        "    ORDER BY freq DESC\n",
        "    LIMIT 3\n",
        "} AS text_mapping,\n",
        "collect {\n",
        "    UNWIND nodes as n\n",
        "    MATCH (n)-[:IN_COMMUNITY*]->(c:__Community__)\n",
        "    WHERE c.summary IS NOT NULL\n",
        "    WITH c, c.rating as rank\n",
        "    RETURN c.summary\n",
        "    ORDER BY rank DESC\n",
        "    LIMIT 3\n",
        "} AS report_mapping,\n",
        "collect {\n",
        "    UNWIND nodes as n\n",
        "    MATCH (n)-[r:SUMMARIZED_RELATIONSHIP]-(m)\n",
        "    WHERE m IN nodes\n",
        "    RETURN r.summary AS descriptionText\n",
        "    LIMIT 3\n",
        "} as insideRels,\n",
        "collect {\n",
        "    UNWIND nodes as n\n",
        "    RETURN n.summary AS descriptionText\n",
        "} as entities\n",
        "RETURN {Chunks: text_mapping, Reports: report_mapping,\n",
        "       Relationships: insideRels,\n",
        "       Entities: entities} AS output\n",
        "    \"\"\"\n",
        ")"
      ],
      "metadata": {
        "id": "tEmPiLVdr8ao"
      },
      "execution_count": null,
      "outputs": []
    },
    {
      "cell_type": "code",
      "source": [
        "async def hybrid_graph_embedding_rag(input: str) -> str:\n",
        "    context = [str(el[1]) for el in retriever.search(query_text=input, top_k=3)]\n",
        "    messages = [\n",
        "    {\n",
        "        \"role\": \"user\",\n",
        "        \"content\": \"Based on the given context: {context} \\n\\n Answer the following question: {question}\".format(context=context, question=input)\n",
        "    },\n",
        "    ]\n",
        "    output = await achat(messages, model=\"gpt-4o\")\n",
        "    return output"
      ],
      "metadata": {
        "id": "VszQsBQ3v00Z"
      },
      "execution_count": null,
      "outputs": []
    },
    {
      "cell_type": "code",
      "source": [
        "response = await hybrid_graph_embedding_rag(input=\"What do you know about Weaviate\")\n",
        "print(response)"
      ],
      "metadata": {
        "colab": {
          "base_uri": "https://localhost:8080/"
        },
        "id": "EmgyW2XuwC0C",
        "outputId": "1fc91e0f-9cd7-49ac-da2b-8b7bcadd8da4"
      },
      "execution_count": null,
      "outputs": [
        {
          "output_type": "stream",
          "name": "stderr",
          "text": [
            "WARNING:neo4j.notifications:Received notification from DBMS server: {severity: WARNING} {code: Neo.ClientNotification.Statement.UnknownPropertyKeyWarning} {category: UNRECOGNIZED} {title: The provided property key is not in the database} {description: One of the property names in your query is not available in the database, make sure you didn't misspell it or that the label is available when you run this statement in your application (the missing property name is: rank)} {position: line: 15, column: 15, offset: 517} for query: 'UNWIND $match_params AS match_param WITH match_param[0] AS match_id_value, match_param[1] AS score MATCH (node) WHERE node[$id_property] = match_id_value \\n    WITH collect(node) as nodes\\nWITH collect {\\n    UNWIND nodes as n\\n    MATCH (n)<-[:MENTIONS]->(c:__Chunk__)\\n    WITH c, count(distinct n) as freq\\n    RETURN c.text AS chunkText\\n    ORDER BY freq DESC\\n    LIMIT 3\\n} AS text_mapping,\\ncollect {\\n    UNWIND nodes as n\\n    MATCH (n)-[:IN_COMMUNITY*]->(c:__Community__)\\n    WHERE c.summary IS NOT NULL\\n    WITH c, c.rank as rank, c.weight AS weight\\n    RETURN c.summary\\n    ORDER BY rank, weight DESC\\n    LIMIT 3\\n} AS report_mapping,\\ncollect {\\n    UNWIND nodes as n\\n    MATCH (n)-[r:SUMMARIZED_RELATIONSHIP]-(m)\\n    WHERE m IN nodes\\n    RETURN r.summary AS descriptionText\\n    ORDER BY r.rank, r.weight DESC\\n    LIMIT 3\\n} as insideRels,\\ncollect {\\n    UNWIND nodes as n\\n    RETURN n.summary AS descriptionText\\n} as entities\\nRETURN {Chunks: text_mapping, Reports: report_mapping,\\n       Relationships: insideRels,\\n       Entities: entities} AS output\\n    '\n",
            "WARNING:neo4j.notifications:Received notification from DBMS server: {severity: WARNING} {code: Neo.ClientNotification.Statement.UnknownPropertyKeyWarning} {category: UNRECOGNIZED} {title: The provided property key is not in the database} {description: One of the property names in your query is not available in the database, make sure you didn't misspell it or that the label is available when you run this statement in your application (the missing property name is: weight)} {position: line: 15, column: 31, offset: 533} for query: 'UNWIND $match_params AS match_param WITH match_param[0] AS match_id_value, match_param[1] AS score MATCH (node) WHERE node[$id_property] = match_id_value \\n    WITH collect(node) as nodes\\nWITH collect {\\n    UNWIND nodes as n\\n    MATCH (n)<-[:MENTIONS]->(c:__Chunk__)\\n    WITH c, count(distinct n) as freq\\n    RETURN c.text AS chunkText\\n    ORDER BY freq DESC\\n    LIMIT 3\\n} AS text_mapping,\\ncollect {\\n    UNWIND nodes as n\\n    MATCH (n)-[:IN_COMMUNITY*]->(c:__Community__)\\n    WHERE c.summary IS NOT NULL\\n    WITH c, c.rank as rank, c.weight AS weight\\n    RETURN c.summary\\n    ORDER BY rank, weight DESC\\n    LIMIT 3\\n} AS report_mapping,\\ncollect {\\n    UNWIND nodes as n\\n    MATCH (n)-[r:SUMMARIZED_RELATIONSHIP]-(m)\\n    WHERE m IN nodes\\n    RETURN r.summary AS descriptionText\\n    ORDER BY r.rank, r.weight DESC\\n    LIMIT 3\\n} as insideRels,\\ncollect {\\n    UNWIND nodes as n\\n    RETURN n.summary AS descriptionText\\n} as entities\\nRETURN {Chunks: text_mapping, Reports: report_mapping,\\n       Relationships: insideRels,\\n       Entities: entities} AS output\\n    '\n",
            "WARNING:neo4j.notifications:Received notification from DBMS server: {severity: WARNING} {code: Neo.ClientNotification.Statement.UnknownPropertyKeyWarning} {category: UNRECOGNIZED} {title: The provided property key is not in the database} {description: One of the property names in your query is not available in the database, make sure you didn't misspell it or that the label is available when you run this statement in your application (the missing property name is: rank)} {position: line: 25, column: 16, offset: 789} for query: 'UNWIND $match_params AS match_param WITH match_param[0] AS match_id_value, match_param[1] AS score MATCH (node) WHERE node[$id_property] = match_id_value \\n    WITH collect(node) as nodes\\nWITH collect {\\n    UNWIND nodes as n\\n    MATCH (n)<-[:MENTIONS]->(c:__Chunk__)\\n    WITH c, count(distinct n) as freq\\n    RETURN c.text AS chunkText\\n    ORDER BY freq DESC\\n    LIMIT 3\\n} AS text_mapping,\\ncollect {\\n    UNWIND nodes as n\\n    MATCH (n)-[:IN_COMMUNITY*]->(c:__Community__)\\n    WHERE c.summary IS NOT NULL\\n    WITH c, c.rank as rank, c.weight AS weight\\n    RETURN c.summary\\n    ORDER BY rank, weight DESC\\n    LIMIT 3\\n} AS report_mapping,\\ncollect {\\n    UNWIND nodes as n\\n    MATCH (n)-[r:SUMMARIZED_RELATIONSHIP]-(m)\\n    WHERE m IN nodes\\n    RETURN r.summary AS descriptionText\\n    ORDER BY r.rank, r.weight DESC\\n    LIMIT 3\\n} as insideRels,\\ncollect {\\n    UNWIND nodes as n\\n    RETURN n.summary AS descriptionText\\n} as entities\\nRETURN {Chunks: text_mapping, Reports: report_mapping,\\n       Relationships: insideRels,\\n       Entities: entities} AS output\\n    '\n",
            "WARNING:neo4j.notifications:Received notification from DBMS server: {severity: WARNING} {code: Neo.ClientNotification.Statement.UnknownPropertyKeyWarning} {category: UNRECOGNIZED} {title: The provided property key is not in the database} {description: One of the property names in your query is not available in the database, make sure you didn't misspell it or that the label is available when you run this statement in your application (the missing property name is: weight)} {position: line: 25, column: 24, offset: 797} for query: 'UNWIND $match_params AS match_param WITH match_param[0] AS match_id_value, match_param[1] AS score MATCH (node) WHERE node[$id_property] = match_id_value \\n    WITH collect(node) as nodes\\nWITH collect {\\n    UNWIND nodes as n\\n    MATCH (n)<-[:MENTIONS]->(c:__Chunk__)\\n    WITH c, count(distinct n) as freq\\n    RETURN c.text AS chunkText\\n    ORDER BY freq DESC\\n    LIMIT 3\\n} AS text_mapping,\\ncollect {\\n    UNWIND nodes as n\\n    MATCH (n)-[:IN_COMMUNITY*]->(c:__Community__)\\n    WHERE c.summary IS NOT NULL\\n    WITH c, c.rank as rank, c.weight AS weight\\n    RETURN c.summary\\n    ORDER BY rank, weight DESC\\n    LIMIT 3\\n} AS report_mapping,\\ncollect {\\n    UNWIND nodes as n\\n    MATCH (n)-[r:SUMMARIZED_RELATIONSHIP]-(m)\\n    WHERE m IN nodes\\n    RETURN r.summary AS descriptionText\\n    ORDER BY r.rank, r.weight DESC\\n    LIMIT 3\\n} as insideRels,\\ncollect {\\n    UNWIND nodes as n\\n    RETURN n.summary AS descriptionText\\n} as entities\\nRETURN {Chunks: text_mapping, Reports: report_mapping,\\n       Relationships: insideRels,\\n       Entities: entities} AS output\\n    '\n"
          ]
        },
        {
          "output_type": "stream",
          "name": "stdout",
          "text": [
            "Weaviate is a multifaceted corporation organized under the laws of both Delaware and California, with principal offices located in various places, including Wilmington, DE, and San Francisco, CA. The company is involved in a wide range of activities, such as acting as a seller in sales agreements, a lender in loan agreements, and a lessor in lease agreements. Weaviate provides services like software development, data analysis, consultation, technical support, and project management. It is also engaged in strategic partnerships to advance AI technologies and develop innovative AI-driven solutions for data management and retrieval.\n",
            "\n",
            "Weaviate is known for its involvement in AI technology development and is responsible for project management and execution of technical development in various partnerships. The company issues purchase orders and invoices and contributes technology resources and staff time to partnerships. Key personnel such as Johnathan Smith, Edward Elric, and Hans Zimmer play significant roles in the company's operations, with responsibilities ranging from signing agreements to managing financial transactions. The company has a complex business network characterized by multiple agreements and locations.\n"
          ]
        }
      ]
    },
    {
      "cell_type": "code",
      "source": [],
      "metadata": {
        "id": "Mf-S6xR19t78"
      },
      "execution_count": null,
      "outputs": []
    }
  ]
}