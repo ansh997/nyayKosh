{
 "cells": [
  {
   "cell_type": "markdown",
   "metadata": {
    "colab_type": "text",
    "id": "view-in-github"
   },
   "source": [
    "<a href=\"https://colab.research.google.com/github/neo4j-contrib/ms-graphrag-neo4j/blob/main/examples/neo4j_weaviate_combined.ipynb\" target=\"_parent\"><img src=\"https://colab.research.google.com/assets/colab-badge.svg\" alt=\"Open In Colab\"/></a>"
   ]
  },
  {
   "cell_type": "markdown",
   "metadata": {
    "colab_type": "toc",
    "id": "GXFxB5p3CPfX"
   },
   "source": [
    ">[Naive RAG vs GraphRAG with Neo4J & Weaviate](#scrollTo=n3QFDMrgAkCo)\n",
    "\n",
    ">>[Install Dependencies](#scrollTo=n3QFDMrgAkCo)\n",
    "\n",
    ">>[Write Documents to Weaviate Cloud](#scrollTo=nqwuGr0Xhgtm)\n",
    "\n",
    ">>[Classic RAG with OpenAI](#scrollTo=-uAAWPQXBUdX)\n",
    "\n",
    ">>[Graph RAG](#scrollTo=zzBnUF4bBYKG)\n",
    "\n",
    ">>>[Build a Graph with Neo4J](#scrollTo=zzBnUF4bBYKG)\n",
    "\n",
    ">>>[Extract Relevant Entities](#scrollTo=FVzpKJViBiJT)\n",
    "\n",
    ">>>[Summarize Nodes and Communities](#scrollTo=j1wAsUfIBrGc)\n",
    "\n",
    ">>>[Write the Entities to Weaviate](#scrollTo=n105cc-_B9bN)\n",
    "\n"
   ]
  },
  {
   "cell_type": "markdown",
   "metadata": {
    "id": "n3QFDMrgAkCo"
   },
   "source": [
    "# Naive RAG vs GraphRAG with Neo4J & Weaviate\n",
    "\n",
    "In this recipe, we will be walking through 2 ways of doing RAG:\n",
    "\n",
    "1. Classic RAG where we do simple vector search, followed be answer generation based on this context\n",
    "2. Graph RAG, making use of both vector search, combined by a graph representation of our dataset including community and node summaries\n",
    "\n",
    "For this example, we will be using a generated dataset called \"Financial Contracts\", that lists (fake) contracts sugned between individuals and companies.\n",
    "\n",
    "## Install Dependencies"
   ]
  },
  {
   "cell_type": "code",
   "execution_count": null,
   "metadata": {
    "colab": {
     "base_uri": "https://localhost:8080/"
    },
    "id": "Wahz0DAFT4p7",
    "outputId": "e3e4da7a-4c60-4d1a-8428-457dfe1408cb"
   },
   "outputs": [],
   "source": [
    "!pip install --quiet --upgrade git+https://github.com/neo4j-contrib/ms-graphrag-neo4j.git datasets weaviate-client neo4j-graphrag"
   ]
  },
  {
   "cell_type": "markdown",
   "metadata": {
    "id": "nqwuGr0Xhgtm"
   },
   "source": [
    "## Write Documents to Weaviate Cloud\n",
    "\n",
    "To get started, you can use a free Weaviate Sandbox.\n",
    "\n",
    "1. Create a cluster\n",
    "2. Take note of the cluster URL and API key\n",
    "3. Go to 'Embeddings' and turn it on."
   ]
  },
  {
   "cell_type": "code",
   "execution_count": null,
   "metadata": {
    "colab": {
     "base_uri": "https://localhost:8080/"
    },
    "id": "chKCzqNS8CvX",
    "outputId": "4a97ee44-d269-4a1e-ffd6-a86ebc4af515"
   },
   "outputs": [],
   "source": [
    "import os\n",
    "from getpass import getpass\n",
    "\n",
    "if \"WEAVIATE_API_KEY\" not in os.environ:\n",
    "  os.environ[\"WEAVIATE_API_KEY\"] = getpass(\"Weaviate API Key\")\n",
    "if \"WEAVIATE_URL\" not in os.environ:\n",
    "  os.environ[\"WEAVIATE_URL\"] = getpass(\"Weaviate URL\")"
   ]
  },
  {
   "cell_type": "code",
   "execution_count": null,
   "metadata": {
    "id": "o5opqllkhzm6"
   },
   "outputs": [],
   "source": [
    "import weaviate\n",
    "from weaviate.auth import Auth\n",
    "\n",
    "client = weaviate.connect_to_weaviate_cloud(\n",
    "    cluster_url=os.environ.get(\"WEAVIATE_URL\"),\n",
    "    auth_credentials=Auth.api_key(os.environ.get(\"WEAVIATE_API_KEY\")),\n",
    ")"
   ]
  },
  {
   "cell_type": "code",
   "execution_count": null,
   "metadata": {
    "colab": {
     "base_uri": "https://localhost:8080/"
    },
    "id": "0ZzBFSLah2QQ",
    "outputId": "8baea5f2-709d-4b25-a3df-a5be7fe52002"
   },
   "outputs": [],
   "source": [
    "from weaviate.classes.config import Configure\n",
    "\n",
    "#client.collections.delete(\"Financial_contracts\")\n",
    "client.collections.create(\n",
    "    \"Financial_contracts\",\n",
    "    description=\"A dataset of financial contracts between indivicuals and/or companies, as well as information on the type of contract and who has authored them.\",\n",
    "    vectorizer_config=Configure.Vectorizer.text2vec_weaviate(),\n",
    ")"
   ]
  },
  {
   "cell_type": "code",
   "execution_count": null,
   "metadata": {
    "colab": {
     "base_uri": "https://localhost:8080/",
     "height": 49,
     "referenced_widgets": [
      "9e5bc9dfd8884912beff5728ec8bbdc7",
      "eafa00edc14a470881d6f2c904a9ffef",
      "ee06d76d5ef74d9b9d46d1bde06559af",
      "2d8d63fcc23c4f31ad2f839abaa6ea0b",
      "606b4ad123d54df1901ce7587ae19d80",
      "f88429672e6442af9aead3c5cbfe96f2",
      "d812f6c3298840f0acfe15bde118f2e3",
      "6552898f055f41398f82a647eeb667ae",
      "d9cfba4a60d94d2a92401483687f781c",
      "65db57d55f964060b387c98ad69f78df",
      "c46b7ea82cd144b6a67b4bcfc5252d0f"
     ]
    },
    "id": "KChqfZu8pTZP",
    "outputId": "cce43078-f899-4157-fa1b-c256e9a067be"
   },
   "outputs": [],
   "source": [
    "from datasets import load_dataset\n",
    "\n",
    "financial_dataset = load_dataset(\"weaviate/agents\", \"query-agent-financial-contracts\", split=\"train\", streaming=True)"
   ]
  },
  {
   "cell_type": "code",
   "execution_count": null,
   "metadata": {
    "id": "sigF9C03iBki"
   },
   "outputs": [],
   "source": [
    "financial_collection = client.collections.get(\"Financial_contracts\")\n",
    "\n",
    "with financial_collection.batch.dynamic() as batch:\n",
    "    for item in financial_dataset:\n",
    "        batch.add_object(properties=item[\"properties\"])"
   ]
  },
  {
   "cell_type": "markdown",
   "metadata": {
    "id": "-uAAWPQXBUdX"
   },
   "source": [
    "## Classic RAG with OpenAI"
   ]
  },
  {
   "cell_type": "code",
   "execution_count": null,
   "metadata": {
    "id": "WtoZ2oCIwpRL"
   },
   "outputs": [],
   "source": [
    "from openai import AsyncOpenAI\n",
    "\n",
    "openai_client = AsyncOpenAI()\n",
    "\n",
    "async def achat(messages, model=\"gpt-4o\", temperature=0, config={}):\n",
    "    response = await openai_client.chat.completions.create(\n",
    "        model=model,\n",
    "        temperature=temperature,\n",
    "        messages=messages,\n",
    "        **config,\n",
    "    )\n",
    "    return response.choices[0].message.content"
   ]
  },
  {
   "cell_type": "code",
   "execution_count": null,
   "metadata": {
    "colab": {
     "base_uri": "https://localhost:8080/"
    },
    "id": "S3oJUcHF7IhA",
    "outputId": "db93a648-4d08-47e3-e95b-7071afe5ed7d"
   },
   "outputs": [],
   "source": [
    "async def classic_rag(input: str) -> str:\n",
    "    context = [str(obj.properties) for obj in financial_collection.query.near_text(query = input, limit=3).objects]\n",
    "    messages = [\n",
    "    {\n",
    "        \"role\": \"user\",\n",
    "        \"content\": \"Based on the given context: {context} \\n\\n Answer the following question: {question}\".format(context=context, question=input)\n",
    "    },\n",
    "    ]\n",
    "    output = await achat(messages, model=\"gpt-4o\")\n",
    "    return output"
   ]
  },
  {
   "cell_type": "code",
   "execution_count": null,
   "metadata": {
    "colab": {
     "base_uri": "https://localhost:8080/"
    },
    "id": "6Cv88Dv883ST",
    "outputId": "8a62a37b-4750-45cb-9cea-86dbb0165d09"
   },
   "outputs": [],
   "source": [
    "response = await classic_rag(\"What do you know about Weaviate\")\n",
    "print(response)"
   ]
  },
  {
   "cell_type": "markdown",
   "metadata": {
    "id": "zzBnUF4bBYKG"
   },
   "source": [
    "## Graph RAG\n",
    "\n",
    "### Build a Graph with Neo4J\n"
   ]
  },
  {
   "cell_type": "code",
   "execution_count": null,
   "metadata": {
    "colab": {
     "base_uri": "https://localhost:8080/",
     "height": 365
    },
    "id": "TKTTyhgzT16d",
    "outputId": "fad60128-6c25-4549-db9e-49b1f39e5a84"
   },
   "outputs": [],
   "source": [
    "import os\n",
    "from getpass import getpass\n",
    "\n",
    "from ms_graphrag_neo4j import MsGraphRAG\n",
    "from neo4j import GraphDatabase\n",
    "import pandas as pd\n",
    "\n",
    "# Use Neo4j Sandbox - Blank Project https://sandbox.neo4j.com/\n",
    "\n",
    "os.environ[\"OPENAI_API_KEY\"]= getpass(\"Openai API Key:\")\n",
    "os.environ[\"NEO4J_URI\"]=\"bolt://3.218.248.139:7687\"\n",
    "os.environ[\"NEO4J_USERNAME\"]=\"neo4j\"\n",
    "os.environ[\"NEO4J_PASSWORD\"]=\"outfit-streams-oxygens\""
   ]
  },
  {
   "cell_type": "code",
   "execution_count": null,
   "metadata": {
    "colab": {
     "base_uri": "https://localhost:8080/"
    },
    "id": "kYI-du6JUI00",
    "outputId": "1b4607c4-230e-45c0-b778-4b48beb6083a"
   },
   "outputs": [],
   "source": [
    "driver = GraphDatabase.driver(\n",
    "    os.environ[\"NEO4J_URI\"],\n",
    "    auth=(os.environ[\"NEO4J_USERNAME\"], os.environ[\"NEO4J_PASSWORD\"]),\n",
    "    #notifications_min_severity=\"OFF\",\n",
    ")\n",
    "ms_graph = MsGraphRAG(driver=driver, model=\"gpt-4o\", max_workers=10)"
   ]
  },
  {
   "cell_type": "code",
   "execution_count": null,
   "metadata": {
    "colab": {
     "base_uri": "https://localhost:8080/",
     "height": 333
    },
    "id": "IkgiLkpyua2D",
    "outputId": "5970840f-cb78-4e60-fb2f-39b56832ac8a"
   },
   "outputs": [],
   "source": [
    "import pandas as pd\n",
    "\n",
    "# Login using e.g. `huggingface-cli login` to access this dataset\n",
    "df = pd.read_parquet(\"hf://datasets/weaviate/agents/query-agent/financial-contracts/0001.parquet\")\n",
    "df.head()"
   ]
  },
  {
   "cell_type": "code",
   "execution_count": null,
   "metadata": {
    "colab": {
     "base_uri": "https://localhost:8080/"
    },
    "id": "sB0MwT0X5cIJ",
    "outputId": "484ef033-467d-4991-e025-f73fdb743419"
   },
   "outputs": [],
   "source": [
    "texts = [el['contract_text'] for el in df['properties']]\n",
    "texts[:2]"
   ]
  },
  {
   "cell_type": "markdown",
   "metadata": {
    "id": "FVzpKJViBiJT"
   },
   "source": [
    "### Extract Relevant Entities\n",
    "\n",
    "Next, we will start extracting relevant entities and relations between these entities that we might be interested in."
   ]
  },
  {
   "cell_type": "code",
   "execution_count": null,
   "metadata": {
    "colab": {
     "base_uri": "https://localhost:8080/",
     "height": 53
    },
    "id": "7TuxXPv251Ia",
    "outputId": "2c5698b6-77af-479f-fe14-cd1836fc5b45"
   },
   "outputs": [],
   "source": [
    "allowed_entities = [\"Person\", \"Organization\", \"Location\"]\n",
    "\n",
    "await ms_graph.extract_nodes_and_rels(texts, allowed_entities)"
   ]
  },
  {
   "cell_type": "markdown",
   "metadata": {
    "id": "j1wAsUfIBrGc"
   },
   "source": [
    "### Summarize Nodes and Communities"
   ]
  },
  {
   "cell_type": "code",
   "execution_count": null,
   "metadata": {
    "colab": {
     "base_uri": "https://localhost:8080/",
     "height": 71
    },
    "id": "_ZlhpN9E6cNO",
    "outputId": "ce595971-bd4e-421f-982a-12cb2623eb41"
   },
   "outputs": [],
   "source": [
    "await ms_graph.summarize_nodes_and_rels()"
   ]
  },
  {
   "cell_type": "code",
   "execution_count": null,
   "metadata": {
    "colab": {
     "base_uri": "https://localhost:8080/",
     "height": 71
    },
    "id": "L1do4-EX7AAL",
    "outputId": "1cccd3bf-9a72-40e9-e14a-68431dab9425"
   },
   "outputs": [],
   "source": [
    "await ms_graph.summarize_communities()"
   ]
  },
  {
   "cell_type": "code",
   "execution_count": null,
   "metadata": {
    "id": "ayWjeNVv7JEy"
   },
   "outputs": [],
   "source": [
    "entities = ms_graph.query(\"\"\"\n",
    "MATCH (e:__Entity__)\n",
    "RETURN e.name AS entity_id, e.summary AS entity_summary\n",
    "\"\"\")"
   ]
  },
  {
   "cell_type": "code",
   "execution_count": null,
   "metadata": {
    "colab": {
     "base_uri": "https://localhost:8080/"
    },
    "id": "PvgvNfY88A77",
    "outputId": "9930f1b0-8cc8-428a-adec-4301071c6919"
   },
   "outputs": [],
   "source": [
    "entities[:2]"
   ]
  },
  {
   "cell_type": "markdown",
   "metadata": {
    "id": "n105cc-_B9bN"
   },
   "source": [
    "### Write the Entities to Weaviate"
   ]
  },
  {
   "cell_type": "code",
   "execution_count": null,
   "metadata": {
    "colab": {
     "base_uri": "https://localhost:8080/"
    },
    "id": "Q8iy4rO3qQ0F",
    "outputId": "16eeab30-032d-493b-ea0b-b4133411f4c6"
   },
   "outputs": [],
   "source": [
    "from weaviate.classes.config import Configure\n",
    "\n",
    "# client.collections.delete(\"Entities\")\n",
    "client.collections.create(\n",
    "    \"Entities\",\n",
    "    description=\"A dataset of entities appearing in the financial contracts between indivicuals and/or companies, as well as information on the type of contract and who has authored them.\",\n",
    "    vectorizer_config=Configure.Vectorizer.text2vec_weaviate(),\n",
    ")"
   ]
  },
  {
   "cell_type": "code",
   "execution_count": null,
   "metadata": {
    "id": "4TG2awNzqYpA"
   },
   "outputs": [],
   "source": [
    "from datasets import IterableDataset\n",
    "\n",
    "# Define a simple generator\n",
    "def list_generator(data):\n",
    "    for item in data:\n",
    "        yield item\n",
    "\n",
    "# Create the IterableDataset\n",
    "entities_dataset = IterableDataset.from_generator(list_generator, gen_kwargs={\"data\": entities})"
   ]
  },
  {
   "cell_type": "code",
   "execution_count": null,
   "metadata": {
    "id": "fCDnGfGXrKUd"
   },
   "outputs": [],
   "source": [
    "entities_collection = client.collections.get(\"Entities\")\n",
    "\n",
    "with entities_collection.batch.dynamic() as batch:\n",
    "    for item in entities_dataset:\n",
    "        batch.add_object(properties=item)"
   ]
  },
  {
   "cell_type": "code",
   "execution_count": null,
   "metadata": {
    "id": "tEmPiLVdr8ao"
   },
   "outputs": [],
   "source": [
    "from neo4j_graphrag.retrievers import WeaviateNeo4jRetriever\n",
    "\n",
    "retriever = WeaviateNeo4jRetriever(\n",
    "    driver=driver,\n",
    "    client=client,\n",
    "    collection=\"Entities\",\n",
    "    id_property_external=\"entity_id\",\n",
    "    id_property_neo4j=\"name\",\n",
    "    retrieval_query=\"\"\"\n",
    "    WITH collect(node) as nodes\n",
    "WITH collect {\n",
    "    UNWIND nodes as n\n",
    "    MATCH (n)<-[:MENTIONS]->(c:__Chunk__)\n",
    "    WITH c, count(distinct n) as freq\n",
    "    RETURN c.text AS chunkText\n",
    "    ORDER BY freq DESC\n",
    "    LIMIT 3\n",
    "} AS text_mapping,\n",
    "collect {\n",
    "    UNWIND nodes as n\n",
    "    MATCH (n)-[:IN_COMMUNITY*]->(c:__Community__)\n",
    "    WHERE c.summary IS NOT NULL\n",
    "    WITH c, c.rating as rank\n",
    "    RETURN c.summary\n",
    "    ORDER BY rank DESC\n",
    "    LIMIT 3\n",
    "} AS report_mapping,\n",
    "collect {\n",
    "    UNWIND nodes as n\n",
    "    MATCH (n)-[r:SUMMARIZED_RELATIONSHIP]-(m)\n",
    "    WHERE m IN nodes\n",
    "    RETURN r.summary AS descriptionText\n",
    "    LIMIT 3\n",
    "} as insideRels,\n",
    "collect {\n",
    "    UNWIND nodes as n\n",
    "    RETURN n.summary AS descriptionText\n",
    "} as entities\n",
    "RETURN {Chunks: text_mapping, Reports: report_mapping,\n",
    "       Relationships: insideRels,\n",
    "       Entities: entities} AS output\n",
    "    \"\"\"\n",
    ")"
   ]
  },
  {
   "cell_type": "code",
   "execution_count": null,
   "metadata": {
    "id": "VszQsBQ3v00Z"
   },
   "outputs": [],
   "source": [
    "async def hybrid_graph_embedding_rag(input: str) -> str:\n",
    "    context = [str(el[1]) for el in retriever.search(query_text=input, top_k=3)]\n",
    "    messages = [\n",
    "    {\n",
    "        \"role\": \"user\",\n",
    "        \"content\": \"Based on the given context: {context} \\n\\n Answer the following question: {question}\".format(context=context, question=input)\n",
    "    },\n",
    "    ]\n",
    "    output = await achat(messages, model=\"gpt-4o\")\n",
    "    return output"
   ]
  },
  {
   "cell_type": "code",
   "execution_count": null,
   "metadata": {
    "colab": {
     "base_uri": "https://localhost:8080/"
    },
    "id": "EmgyW2XuwC0C",
    "outputId": "1fc91e0f-9cd7-49ac-da2b-8b7bcadd8da4"
   },
   "outputs": [],
   "source": [
    "response = await hybrid_graph_embedding_rag(input=\"What do you know about Weaviate\")\n",
    "print(response)"
   ]
  },
  {
   "cell_type": "code",
   "execution_count": null,
   "metadata": {
    "id": "Mf-S6xR19t78"
   },
   "outputs": [],
   "source": []
  }
 ],
 "metadata": {
  "colab": {
   "include_colab_link": true,
   "provenance": []
  },
  "kernelspec": {
   "display_name": "Python 3 (ipykernel)",
   "language": "python",
   "name": "python3"
  },
  "language_info": {
   "codemirror_mode": {
    "name": "ipython",
    "version": 3
   },
   "file_extension": ".py",
   "mimetype": "text/x-python",
   "name": "python",
   "nbconvert_exporter": "python",
   "pygments_lexer": "ipython3",
   "version": "3.11.5"
  },
  "widgets": {
   "application/vnd.jupyter.widget-state+json": {
    "2d8d63fcc23c4f31ad2f839abaa6ea0b": {
     "model_module": "@jupyter-widgets/controls",
     "model_module_version": "1.5.0",
     "model_name": "HTMLModel",
     "state": {
      "_dom_classes": [],
      "_model_module": "@jupyter-widgets/controls",
      "_model_module_version": "1.5.0",
      "_model_name": "HTMLModel",
      "_view_count": null,
      "_view_module": "@jupyter-widgets/controls",
      "_view_module_version": "1.5.0",
      "_view_name": "HTMLView",
      "description": "",
      "description_tooltip": null,
      "layout": "IPY_MODEL_65db57d55f964060b387c98ad69f78df",
      "placeholder": "​",
      "style": "IPY_MODEL_c46b7ea82cd144b6a67b4bcfc5252d0f",
      "value": " 3.84k/3.84k [00:00&lt;00:00, 136kB/s]"
     }
    },
    "606b4ad123d54df1901ce7587ae19d80": {
     "model_module": "@jupyter-widgets/base",
     "model_module_version": "1.2.0",
     "model_name": "LayoutModel",
     "state": {
      "_model_module": "@jupyter-widgets/base",
      "_model_module_version": "1.2.0",
      "_model_name": "LayoutModel",
      "_view_count": null,
      "_view_module": "@jupyter-widgets/base",
      "_view_module_version": "1.2.0",
      "_view_name": "LayoutView",
      "align_content": null,
      "align_items": null,
      "align_self": null,
      "border": null,
      "bottom": null,
      "display": null,
      "flex": null,
      "flex_flow": null,
      "grid_area": null,
      "grid_auto_columns": null,
      "grid_auto_flow": null,
      "grid_auto_rows": null,
      "grid_column": null,
      "grid_gap": null,
      "grid_row": null,
      "grid_template_areas": null,
      "grid_template_columns": null,
      "grid_template_rows": null,
      "height": null,
      "justify_content": null,
      "justify_items": null,
      "left": null,
      "margin": null,
      "max_height": null,
      "max_width": null,
      "min_height": null,
      "min_width": null,
      "object_fit": null,
      "object_position": null,
      "order": null,
      "overflow": null,
      "overflow_x": null,
      "overflow_y": null,
      "padding": null,
      "right": null,
      "top": null,
      "visibility": null,
      "width": null
     }
    },
    "6552898f055f41398f82a647eeb667ae": {
     "model_module": "@jupyter-widgets/base",
     "model_module_version": "1.2.0",
     "model_name": "LayoutModel",
     "state": {
      "_model_module": "@jupyter-widgets/base",
      "_model_module_version": "1.2.0",
      "_model_name": "LayoutModel",
      "_view_count": null,
      "_view_module": "@jupyter-widgets/base",
      "_view_module_version": "1.2.0",
      "_view_name": "LayoutView",
      "align_content": null,
      "align_items": null,
      "align_self": null,
      "border": null,
      "bottom": null,
      "display": null,
      "flex": null,
      "flex_flow": null,
      "grid_area": null,
      "grid_auto_columns": null,
      "grid_auto_flow": null,
      "grid_auto_rows": null,
      "grid_column": null,
      "grid_gap": null,
      "grid_row": null,
      "grid_template_areas": null,
      "grid_template_columns": null,
      "grid_template_rows": null,
      "height": null,
      "justify_content": null,
      "justify_items": null,
      "left": null,
      "margin": null,
      "max_height": null,
      "max_width": null,
      "min_height": null,
      "min_width": null,
      "object_fit": null,
      "object_position": null,
      "order": null,
      "overflow": null,
      "overflow_x": null,
      "overflow_y": null,
      "padding": null,
      "right": null,
      "top": null,
      "visibility": null,
      "width": null
     }
    },
    "65db57d55f964060b387c98ad69f78df": {
     "model_module": "@jupyter-widgets/base",
     "model_module_version": "1.2.0",
     "model_name": "LayoutModel",
     "state": {
      "_model_module": "@jupyter-widgets/base",
      "_model_module_version": "1.2.0",
      "_model_name": "LayoutModel",
      "_view_count": null,
      "_view_module": "@jupyter-widgets/base",
      "_view_module_version": "1.2.0",
      "_view_name": "LayoutView",
      "align_content": null,
      "align_items": null,
      "align_self": null,
      "border": null,
      "bottom": null,
      "display": null,
      "flex": null,
      "flex_flow": null,
      "grid_area": null,
      "grid_auto_columns": null,
      "grid_auto_flow": null,
      "grid_auto_rows": null,
      "grid_column": null,
      "grid_gap": null,
      "grid_row": null,
      "grid_template_areas": null,
      "grid_template_columns": null,
      "grid_template_rows": null,
      "height": null,
      "justify_content": null,
      "justify_items": null,
      "left": null,
      "margin": null,
      "max_height": null,
      "max_width": null,
      "min_height": null,
      "min_width": null,
      "object_fit": null,
      "object_position": null,
      "order": null,
      "overflow": null,
      "overflow_x": null,
      "overflow_y": null,
      "padding": null,
      "right": null,
      "top": null,
      "visibility": null,
      "width": null
     }
    },
    "9e5bc9dfd8884912beff5728ec8bbdc7": {
     "model_module": "@jupyter-widgets/controls",
     "model_module_version": "1.5.0",
     "model_name": "HBoxModel",
     "state": {
      "_dom_classes": [],
      "_model_module": "@jupyter-widgets/controls",
      "_model_module_version": "1.5.0",
      "_model_name": "HBoxModel",
      "_view_count": null,
      "_view_module": "@jupyter-widgets/controls",
      "_view_module_version": "1.5.0",
      "_view_name": "HBoxView",
      "box_style": "",
      "children": [
       "IPY_MODEL_eafa00edc14a470881d6f2c904a9ffef",
       "IPY_MODEL_ee06d76d5ef74d9b9d46d1bde06559af",
       "IPY_MODEL_2d8d63fcc23c4f31ad2f839abaa6ea0b"
      ],
      "layout": "IPY_MODEL_606b4ad123d54df1901ce7587ae19d80"
     }
    },
    "c46b7ea82cd144b6a67b4bcfc5252d0f": {
     "model_module": "@jupyter-widgets/controls",
     "model_module_version": "1.5.0",
     "model_name": "DescriptionStyleModel",
     "state": {
      "_model_module": "@jupyter-widgets/controls",
      "_model_module_version": "1.5.0",
      "_model_name": "DescriptionStyleModel",
      "_view_count": null,
      "_view_module": "@jupyter-widgets/base",
      "_view_module_version": "1.2.0",
      "_view_name": "StyleView",
      "description_width": ""
     }
    },
    "d812f6c3298840f0acfe15bde118f2e3": {
     "model_module": "@jupyter-widgets/controls",
     "model_module_version": "1.5.0",
     "model_name": "DescriptionStyleModel",
     "state": {
      "_model_module": "@jupyter-widgets/controls",
      "_model_module_version": "1.5.0",
      "_model_name": "DescriptionStyleModel",
      "_view_count": null,
      "_view_module": "@jupyter-widgets/base",
      "_view_module_version": "1.2.0",
      "_view_name": "StyleView",
      "description_width": ""
     }
    },
    "d9cfba4a60d94d2a92401483687f781c": {
     "model_module": "@jupyter-widgets/controls",
     "model_module_version": "1.5.0",
     "model_name": "ProgressStyleModel",
     "state": {
      "_model_module": "@jupyter-widgets/controls",
      "_model_module_version": "1.5.0",
      "_model_name": "ProgressStyleModel",
      "_view_count": null,
      "_view_module": "@jupyter-widgets/base",
      "_view_module_version": "1.2.0",
      "_view_name": "StyleView",
      "bar_color": null,
      "description_width": ""
     }
    },
    "eafa00edc14a470881d6f2c904a9ffef": {
     "model_module": "@jupyter-widgets/controls",
     "model_module_version": "1.5.0",
     "model_name": "HTMLModel",
     "state": {
      "_dom_classes": [],
      "_model_module": "@jupyter-widgets/controls",
      "_model_module_version": "1.5.0",
      "_model_name": "HTMLModel",
      "_view_count": null,
      "_view_module": "@jupyter-widgets/controls",
      "_view_module_version": "1.5.0",
      "_view_name": "HTMLView",
      "description": "",
      "description_tooltip": null,
      "layout": "IPY_MODEL_f88429672e6442af9aead3c5cbfe96f2",
      "placeholder": "​",
      "style": "IPY_MODEL_d812f6c3298840f0acfe15bde118f2e3",
      "value": "README.md: 100%"
     }
    },
    "ee06d76d5ef74d9b9d46d1bde06559af": {
     "model_module": "@jupyter-widgets/controls",
     "model_module_version": "1.5.0",
     "model_name": "FloatProgressModel",
     "state": {
      "_dom_classes": [],
      "_model_module": "@jupyter-widgets/controls",
      "_model_module_version": "1.5.0",
      "_model_name": "FloatProgressModel",
      "_view_count": null,
      "_view_module": "@jupyter-widgets/controls",
      "_view_module_version": "1.5.0",
      "_view_name": "ProgressView",
      "bar_style": "success",
      "description": "",
      "description_tooltip": null,
      "layout": "IPY_MODEL_6552898f055f41398f82a647eeb667ae",
      "max": 3842,
      "min": 0,
      "orientation": "horizontal",
      "style": "IPY_MODEL_d9cfba4a60d94d2a92401483687f781c",
      "value": 3842
     }
    },
    "f88429672e6442af9aead3c5cbfe96f2": {
     "model_module": "@jupyter-widgets/base",
     "model_module_version": "1.2.0",
     "model_name": "LayoutModel",
     "state": {
      "_model_module": "@jupyter-widgets/base",
      "_model_module_version": "1.2.0",
      "_model_name": "LayoutModel",
      "_view_count": null,
      "_view_module": "@jupyter-widgets/base",
      "_view_module_version": "1.2.0",
      "_view_name": "LayoutView",
      "align_content": null,
      "align_items": null,
      "align_self": null,
      "border": null,
      "bottom": null,
      "display": null,
      "flex": null,
      "flex_flow": null,
      "grid_area": null,
      "grid_auto_columns": null,
      "grid_auto_flow": null,
      "grid_auto_rows": null,
      "grid_column": null,
      "grid_gap": null,
      "grid_row": null,
      "grid_template_areas": null,
      "grid_template_columns": null,
      "grid_template_rows": null,
      "height": null,
      "justify_content": null,
      "justify_items": null,
      "left": null,
      "margin": null,
      "max_height": null,
      "max_width": null,
      "min_height": null,
      "min_width": null,
      "object_fit": null,
      "object_position": null,
      "order": null,
      "overflow": null,
      "overflow_x": null,
      "overflow_y": null,
      "padding": null,
      "right": null,
      "top": null,
      "visibility": null,
      "width": null
     }
    }
   }
  }
 },
 "nbformat": 4,
 "nbformat_minor": 4
}
