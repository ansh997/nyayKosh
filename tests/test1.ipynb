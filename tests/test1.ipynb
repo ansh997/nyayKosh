{
 "cells": [
  {
   "cell_type": "code",
   "execution_count": null,
   "metadata": {},
   "outputs": [],
   "source": [
    "import os\n",
    "from openai import OpenAI\n",
    "from dotenv import load_dotenv"
   ]
  },
  {
   "cell_type": "code",
   "execution_count": null,
   "metadata": {},
   "outputs": [],
   "source": [
    "# Load environment variables from .env file\n",
    "load_dotenv()\n",
    "\n",
    "# Get the OpenRouter API key from environment variables\n",
    "openrouter_key = os.getenv('OPENROUTER_API_KEY')\n",
    "\n",
    "# Check if the API key is available\n",
    "if not openrouter_key:\n",
    "    print(\"Error: OPENROUTER_API_KEY not found in environment variables or .env file.\")\n",
    "    exit()\n",
    "\n",
    "# Initialize the OpenAI client for OpenRouter\n",
    "client = OpenAI(\n",
    "    base_url=\"https://openrouter.ai/api/v1\",\n",
    "    api_key=openrouter_key,\n",
    ")\n",
    "\n",
    "# Define your site URL and name (replace with your actual values)\n",
    "your_site_url = \"https://yourwebsite.com\"  # Replace with your actual site URL\n",
    "your_site_name = \"Your Website Name\"      # Replace with your actual site name\n",
    "\n",
    "try:\n",
    "    # Create a chat completion request\n",
    "    completion = client.chat.completions.create(\n",
    "        extra_headers={\n",
    "            \"HTTP-Referer\": your_site_url,  # Optional: Site URL for OpenRouter rankings\n",
    "            \"X-Title\": your_site_name,      # Optional: Site title for OpenRouter rankings\n",
    "        },\n",
    "        model=\"microsoft/phi-4-reasoning-plus:free\",\n",
    "        messages=[\n",
    "            {\n",
    "                \"role\": \"user\",\n",
    "                \"content\": \"What is the meaning of life?\"\n",
    "            }\n",
    "        ]\n",
    "    )\n",
    "\n",
    "    # Print the model's response\n",
    "    print(completion.choices[0].message.content)\n",
    "\n",
    "except Exception as e:\n",
    "    print(f\"An error occurred: {e}\")\n",
    "    print(\"Please ensure your OPENROUTER_API_KEY is correct and OpenRouter is accessible.\")"
   ]
  },
  {
   "cell_type": "code",
   "execution_count": null,
   "metadata": {},
   "outputs": [],
   "source": [
    "from neo4j import GraphDatabase\n",
    "import os\n",
    "from dotenv import load_dotenv\n",
    "\n",
    "# Load environment variables from .env file\n",
    "load_dotenv()\n",
    "\n",
    "# Retrieve Neo4j connection details from environment variables\n",
    "NEO4J_URI = os.getenv(\"NEO4J_URI\")\n",
    "NEO4J_USER = os.getenv(\"NEO4J_USERNAME\")\n",
    "NEO4J_PASSWORD = os.getenv(\"NEO4J_PASSWORD\")\n",
    "\n",
    "# print(NEO4J_PASSWORD, NEO4J_URI, NEO4J_USER)\n",
    "\n",
    "def test_neo4j_connection():\n",
    "    \"\"\"Tests the connection to a Neo4j database.\"\"\"\n",
    "    if not NEO4J_URI or not NEO4J_USER or not NEO4J_PASSWORD:\n",
    "        print(\"Error: Please set NEO4J_URI, NEO4J_USER, and NEO4J_PASSWORD environment variables.\")\n",
    "        return False\n",
    "\n",
    "    driver = None\n",
    "    try:\n",
    "        driver = GraphDatabase.driver(NEO4J_URI, auth=(NEO4J_USER, NEO4J_PASSWORD))\n",
    "        driver.verify_connectivity()\n",
    "        print(f\"Successfully connected to Neo4j at: {NEO4J_URI}\")\n",
    "        return True\n",
    "    except Exception as e:\n",
    "        print(f\"Error connecting to Neo4j at {NEO4J_URI}: {e}\")\n",
    "        return False\n",
    "    finally:\n",
    "        if driver:\n",
    "            driver.close()\n",
    "\n",
    "if __name__ == \"__main__\":\n",
    "    test_neo4j_connection()"
   ]
  },
  {
   "cell_type": "code",
   "execution_count": null,
   "metadata": {},
   "outputs": [],
   "source": []
  }
 ],
 "metadata": {
  "kernelspec": {
   "display_name": ".venv",
   "language": "python",
   "name": "python3"
  },
  "language_info": {
   "codemirror_mode": {
    "name": "ipython",
    "version": 3
   },
   "file_extension": ".py",
   "mimetype": "text/x-python",
   "name": "python",
   "nbconvert_exporter": "python",
   "pygments_lexer": "ipython3",
   "version": "3.9.7"
  }
 },
 "nbformat": 4,
 "nbformat_minor": 2
}
