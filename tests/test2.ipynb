{
 "cells": [
  {
   "cell_type": "code",
   "execution_count": 1,
   "metadata": {},
   "outputs": [],
   "source": [
    "# %load_ext autoreload\n",
    "# %autoreload 2\n",
    "\n",
    "import os\n",
    "\n",
    "from neo4j import GraphDatabase\n",
    "from ms_graphrag_neo4j import CustomGraphRAG"
   ]
  },
  {
   "cell_type": "code",
   "execution_count": 2,
   "metadata": {},
   "outputs": [],
   "source": [
    "from dotenv import load_dotenv\n",
    "\n",
    "# Load environment variables from .env file\n",
    "load_dotenv()\n",
    "\n",
    "# Access the environment variables\n",
    "neo4j_uri = os.getenv(\"NEO4J_URI\")\n",
    "neo4j_username = os.getenv(\"NEO4J_USERNAME\")\n",
    "neo4j_password = os.getenv(\"NEO4J_PASSWORD\")"
   ]
  },
  {
   "cell_type": "code",
   "execution_count": 3,
   "metadata": {},
   "outputs": [
    {
     "name": "stdout",
     "output_type": "stream",
     "text": [
      "Available logical CPU cores: 8\n"
     ]
    }
   ],
   "source": [
    "max_workers = os.cpu_count()  # Total logical cores (threads)\n",
    "print(f\"Available logical CPU cores: {max_workers}\")"
   ]
  },
  {
   "cell_type": "code",
   "execution_count": null,
   "metadata": {},
   "outputs": [],
   "source": [
    "# Connect to Neo4j\n",
    "driver = GraphDatabase.driver(\n",
    "    os.environ[\"NEO4J_URI\"], \n",
    "    auth=(os.environ[\"NEO4J_USERNAME\"], os.environ[\"NEO4J_PASSWORD\"])\n",
    ")\n",
    "\n",
    "# Initialize MsGraphRAG\n",
    "ms_graph = CustomGraphRAG(driver=driver, max_workers=0)  # No concurrent work"
   ]
  },
  {
   "cell_type": "code",
   "execution_count": 5,
   "metadata": {},
   "outputs": [],
   "source": [
    "# Define example texts and entity types\n",
    "example_texts = [\n",
    "    \"Tomaz works for Neo4j\",\n",
    "    \"Tomaz lives in Grosuplje\", \n",
    "    \"Tomaz went to school in Grosuplje\"\n",
    "]\n",
    "allowed_entities = [\"Person\", \"Organization\", \"Location\"]"
   ]
  },
  {
   "cell_type": "code",
   "execution_count": 6,
   "metadata": {},
   "outputs": [
    {
     "name": "stdout",
     "output_type": "stream",
     "text": [
      "['Tomaz works for Neo4j', 'Tomaz lives in Grosuplje', 'Tomaz went to school in Grosuplje'] ['Person', 'Organization', 'Location']\n"
     ]
    }
   ],
   "source": [
    "print(example_texts, allowed_entities)"
   ]
  },
  {
   "cell_type": "code",
   "execution_count": 7,
   "metadata": {},
   "outputs": [
    {
     "name": "stdout",
     "output_type": "stream",
     "text": [
      "All Tasks are completely processed.                 \n",
      "Not Using semaphore to to limit concurrent tasks\n"
     ]
    },
    {
     "name": "stderr",
     "output_type": "stream",
     "text": [
      "Extracting nodes & relationships:  33%|███▎      | 1/3 [00:01<00:03,  1.51s/it]"
     ]
    },
    {
     "name": "stdout",
     "output_type": "stream",
     "text": [
      "ChatCompletion(id='gen-1747115236-NpZqvNWoGLeBoyoEjzh9', choices=[Choice(finish_reason='stop', index=0, logprobs=None, message=ChatCompletionMessage(content='(\"entity\";TOMAZ;PERSON;Tomaz is an individual who attended school in Grosuplje)\\n|\\n(\"entity\";GROSUPLJE;LOCATION;Grosuplje is a location where Tomaz attended school)', refusal=None, role='assistant', annotations=None, audio=None, function_call=None, tool_calls=None, reasoning=None), native_finish_reason='stop')], created=1747115236, model='openai/gpt-4o', object='chat.completion', service_tier=None, system_fingerprint='fp_d8864f8b6b', usage=CompletionUsage(completion_tokens=48, prompt_tokens=1529, total_tokens=1577, completion_tokens_details=CompletionTokensDetails(accepted_prediction_tokens=None, audio_tokens=None, reasoning_tokens=0, rejected_prediction_tokens=None), prompt_tokens_details=PromptTokensDetails(audio_tokens=None, cached_tokens=1408)), provider='OpenAI')\n"
     ]
    },
    {
     "name": "stderr",
     "output_type": "stream",
     "text": [
      "Extracting nodes & relationships: 100%|██████████| 3/3 [00:01<00:00,  1.60it/s]"
     ]
    },
    {
     "name": "stdout",
     "output_type": "stream",
     "text": [
      "ChatCompletion(id='gen-1747115236-swxwtgPNUY9j2TWhmewj', choices=[Choice(finish_reason='stop', index=0, logprobs=None, message=ChatCompletionMessage(content='(\"entity\";TOMAZ;PERSON;Tomaz is an individual who works for Neo4j)\\n|\\n(\"entity\";NEO4J;ORGANIZATION;Neo4j is an organization that employs Tomaz)\\n|\\n(\"relationship\";TOMAZ;NEO4J;Tomaz is employed by Neo4j;8)', refusal=None, role='assistant', annotations=None, audio=None, function_call=None, tool_calls=None, reasoning=None), native_finish_reason='stop')], created=1747115236, model='openai/gpt-4o', object='chat.completion', service_tier=None, system_fingerprint='fp_d8864f8b6b', usage=CompletionUsage(completion_tokens=70, prompt_tokens=1527, total_tokens=1597, completion_tokens_details=CompletionTokensDetails(accepted_prediction_tokens=None, audio_tokens=None, reasoning_tokens=0, rejected_prediction_tokens=None), prompt_tokens_details=PromptTokensDetails(audio_tokens=None, cached_tokens=1408)), provider='OpenAI')\n",
      "ChatCompletion(id='gen-1747115236-h8GpiptmnkUrfokKFxCm', choices=[Choice(finish_reason='stop', index=0, logprobs=None, message=ChatCompletionMessage(content='(\"entity\";TOMAZ;PERSON;Tomaz is an individual residing in Grosuplje)\\n|\\n(\"entity\";GROSUPLJE;LOCATION;Grosuplje is a location where Tomaz lives)\\n|\\n(\"relationship\";TOMAZ;GROSUPLJE;Tomaz resides in Grosuplje;5)', refusal=None, role='assistant', annotations=None, audio=None, function_call=None, tool_calls=None, reasoning=None), native_finish_reason='stop')], created=1747115236, model='openai/gpt-4o', object='chat.completion', service_tier=None, system_fingerprint='fp_d8864f8b6b', usage=CompletionUsage(completion_tokens=69, prompt_tokens=1527, total_tokens=1596, completion_tokens_details=CompletionTokensDetails(accepted_prediction_tokens=None, audio_tokens=None, reasoning_tokens=0, rejected_prediction_tokens=None), prompt_tokens_details=PromptTokensDetails(audio_tokens=None, cached_tokens=1408)), provider='OpenAI')\n",
      "results = [([{'record_type': 'entity', 'entity_name': 'TOMAZ', 'entity_type': 'PERSON', 'entity_description': 'Tomaz is an individual who attended school in Grosuplje'}, {'record_type': 'entity', 'entity_name': 'GROSUPLJE', 'entity_type': 'LOCATION', 'entity_description': 'Grosuplje is a location where Tomaz attended school'}], []), ([{'record_type': 'entity', 'entity_name': 'TOMAZ', 'entity_type': 'PERSON', 'entity_description': 'Tomaz is an individual who works for Neo4j'}, {'record_type': 'entity', 'entity_name': 'NEO4J', 'entity_type': 'ORGANIZATION', 'entity_description': 'Neo4j is an organization that employs Tomaz'}], [{'record_type': 'relationship', 'source_entity': 'TOMAZ', 'target_entity': 'NEO4J', 'relationship_description': 'Tomaz is employed by Neo4j', 'relationship_strength': 8}]), ([{'record_type': 'entity', 'entity_name': 'TOMAZ', 'entity_type': 'PERSON', 'entity_description': 'Tomaz is an individual residing in Grosuplje'}, {'record_type': 'entity', 'entity_name': 'GROSUPLJE', 'entity_type': 'LOCATION', 'entity_description': 'Grosuplje is a location where Tomaz lives'}], [{'record_type': 'relationship', 'source_entity': 'TOMAZ', 'target_entity': 'GROSUPLJE', 'relationship_description': 'Tomaz resides in Grosuplje', 'relationship_strength': 5}])]\n",
      "Importing nodes and relationships.         \n",
      "Successfuly extracted and imported 2 relationships\n"
     ]
    },
    {
     "name": "stderr",
     "output_type": "stream",
     "text": [
      "\n"
     ]
    }
   ],
   "source": [
    "# Extract entities and relationships\n",
    "result = await ms_graph.extract_nodes_and_rels(example_texts, allowed_entities)\n",
    "print(result)"
   ]
  },
  {
   "cell_type": "code",
   "execution_count": 8,
   "metadata": {},
   "outputs": [
    {
     "name": "stderr",
     "output_type": "stream",
     "text": [
      "Summarizing nodes:  33%|███▎      | 1/3 [00:01<00:02,  1.00s/it]"
     ]
    },
    {
     "name": "stdout",
     "output_type": "stream",
     "text": [
      "ChatCompletion(id='gen-1747115240-uNHU1KcdHxa8LsNAZhmL', choices=[Choice(finish_reason='stop', index=0, logprobs=None, message=ChatCompletionMessage(content='Neo4j is an organization that employs Tomaz.', refusal=None, role='assistant', annotations=None, audio=None, function_call=None, tool_calls=None, reasoning=None), native_finish_reason='stop')], created=1747115240, model='openai/gpt-4o', object='chat.completion', service_tier=None, system_fingerprint='fp_d8864f8b6b', usage=CompletionUsage(completion_tokens=12, prompt_tokens=182, total_tokens=194, completion_tokens_details=CompletionTokensDetails(accepted_prediction_tokens=None, audio_tokens=None, reasoning_tokens=0, rejected_prediction_tokens=None), prompt_tokens_details=PromptTokensDetails(audio_tokens=None, cached_tokens=0)), provider='OpenAI')\n"
     ]
    },
    {
     "name": "stderr",
     "output_type": "stream",
     "text": [
      "Summarizing nodes: 100%|██████████| 3/3 [00:01<00:00,  2.15it/s]"
     ]
    },
    {
     "name": "stdout",
     "output_type": "stream",
     "text": [
      "ChatCompletion(id='gen-1747115240-K51xizaLhQIqI70w6cY6', choices=[Choice(finish_reason='stop', index=0, logprobs=None, message=ChatCompletionMessage(content='Grosuplje is a location where Tomaz both attended school and currently lives.', refusal=None, role='assistant', annotations=None, audio=None, function_call=None, tool_calls=None, reasoning=None), native_finish_reason='stop')], created=1747115240, model='openai/gpt-4o', object='chat.completion', service_tier=None, system_fingerprint='fp_d8864f8b6b', usage=CompletionUsage(completion_tokens=18, prompt_tokens=240, total_tokens=258, completion_tokens_details=CompletionTokensDetails(accepted_prediction_tokens=None, audio_tokens=None, reasoning_tokens=0, rejected_prediction_tokens=None), prompt_tokens_details=PromptTokensDetails(audio_tokens=None, cached_tokens=0)), provider='OpenAI')\n",
      "ChatCompletion(id='gen-1747115240-Zt7XgQrtzDBB87pV7fol', choices=[Choice(finish_reason='stop', index=0, logprobs=None, message=ChatCompletionMessage(content='Tomaz is an individual who resides in Grosuplje and attended school there. He is currently employed by Neo4j, an organization where he works.', refusal=None, role='assistant', annotations=None, audio=None, function_call=None, tool_calls=None, reasoning=None), native_finish_reason='stop')], created=1747115240, model='openai/gpt-4o', object='chat.completion', service_tier=None, system_fingerprint='fp_d8864f8b6b', usage=CompletionUsage(completion_tokens=32, prompt_tokens=283, total_tokens=315, completion_tokens_details=CompletionTokensDetails(accepted_prediction_tokens=None, audio_tokens=None, reasoning_tokens=0, rejected_prediction_tokens=None), prompt_tokens_details=PromptTokensDetails(audio_tokens=None, cached_tokens=0)), provider='OpenAI')\n"
     ]
    },
    {
     "name": "stderr",
     "output_type": "stream",
     "text": [
      "Summarizing nodes: 100%|██████████| 3/3 [00:01<00:00,  1.80it/s]\n",
      "Summarizing relationships:  50%|█████     | 1/2 [00:01<00:01,  1.04s/it]"
     ]
    },
    {
     "name": "stdout",
     "output_type": "stream",
     "text": [
      "ChatCompletion(id='gen-1747115242-cCflSPhdv7j2lbKrwz37', choices=[Choice(finish_reason='stop', index=0, logprobs=None, message=ChatCompletionMessage(content='Tomaz is employed by Neo4j.', refusal=None, role='assistant', annotations=None, audio=None, function_call=None, tool_calls=None, reasoning=None), native_finish_reason='stop')], created=1747115242, model='openai/gpt-4o', object='chat.completion', service_tier=None, system_fingerprint='fp_d8864f8b6b', usage=CompletionUsage(completion_tokens=10, prompt_tokens=174, total_tokens=184, completion_tokens_details=CompletionTokensDetails(accepted_prediction_tokens=None, audio_tokens=None, reasoning_tokens=0, rejected_prediction_tokens=None), prompt_tokens_details=PromptTokensDetails(audio_tokens=None, cached_tokens=0)), provider='OpenAI')\n"
     ]
    },
    {
     "name": "stderr",
     "output_type": "stream",
     "text": [
      "Summarizing relationships: 100%|██████████| 2/2 [00:01<00:00,  1.24it/s]"
     ]
    },
    {
     "name": "stdout",
     "output_type": "stream",
     "text": [
      "ChatCompletion(id='gen-1747115242-n05uYcifJXJc8iMWZFeV', choices=[Choice(finish_reason='stop', index=0, logprobs=None, message=ChatCompletionMessage(content='Tomaz is a resident of Grosuplje, where he also attended school.', refusal=None, role='assistant', annotations=None, audio=None, function_call=None, tool_calls=None, reasoning=None), native_finish_reason='stop')], created=1747115242, model='openai/gpt-4o', object='chat.completion', service_tier=None, system_fingerprint='fp_d8864f8b6b', usage=CompletionUsage(completion_tokens=17, prompt_tokens=181, total_tokens=198, completion_tokens_details=CompletionTokensDetails(accepted_prediction_tokens=None, audio_tokens=None, reasoning_tokens=0, rejected_prediction_tokens=None), prompt_tokens_details=PromptTokensDetails(audio_tokens=None, cached_tokens=0)), provider='OpenAI')\n",
      "Successfuly summarized nodes and relationships\n"
     ]
    },
    {
     "name": "stderr",
     "output_type": "stream",
     "text": [
      "\n"
     ]
    }
   ],
   "source": [
    "# Generate summaries for nodes and relationships\n",
    "result = await ms_graph.summarize_nodes_and_rels()\n",
    "print(result)"
   ]
  },
  {
   "cell_type": "code",
   "execution_count": 9,
   "metadata": {},
   "outputs": [
    {
     "name": "stdout",
     "output_type": "stream",
     "text": [
      "Leiden algorithm identified 1 community levels with 1 communities on the last level.\n"
     ]
    },
    {
     "name": "stderr",
     "output_type": "stream",
     "text": [
      "Summarizing communities: 100%|██████████| 1/1 [00:08<00:00,  8.85s/it]"
     ]
    },
    {
     "name": "stdout",
     "output_type": "stream",
     "text": [
      "ChatCompletion(id='gen-1747115246-dGdGqTDfQknhMGENQUE7', choices=[Choice(finish_reason='stop', index=0, logprobs=None, message=ChatCompletionMessage(content='```json\\n{\\n    \"title\": \"Tomaz, Grosuplje, and Neo4j Community\",\\n    \"summary\": \"The community is centered around Tomaz, an individual residing in Grosuplje, who is employed by Neo4j. The relationships within this community highlight Tomaz\\'s connection to his place of residence and employment, forming a simple yet interconnected network.\",\\n    \"rating\": 2.0,\\n    \"rating_explanation\": \"The impact severity rating is low due to the limited scope and influence of the community\\'s entities.\",\\n    \"findings\": [\\n        {\\n            \"summary\": \"Tomaz\\'s Residency in Grosuplje\",\\n            \"explanation\": \"Tomaz is a resident of Grosuplje, a location where he also attended school. This connection indicates a strong personal and educational tie to the area, suggesting that Grosuplje plays a significant role in his life. The relationship between Tomaz and Grosuplje is foundational to understanding his background and current living situation [Data: Entities (None); Relationships (None)].\"\\n        },\\n        {\\n            \"summary\": \"Employment at Neo4j\",\\n            \"explanation\": \"Tomaz is employed by Neo4j, an organization that forms a crucial part of his professional life. This employment relationship highlights Neo4j\\'s role as a key entity within the community, providing Tomaz with professional opportunities and potentially influencing his career trajectory. The connection between Tomaz and Neo4j underscores the importance of employment in shaping individual identity and community dynamics [Data: Entities (None); Relationships (None)].\"\\n        },\\n        {\\n            \"summary\": \"Interconnectedness of Personal and Professional Life\",\\n            \"explanation\": \"The community\\'s structure reveals the interconnectedness of Tomaz\\'s personal and professional life, with Grosuplje and Neo4j serving as pivotal entities. This dual connection illustrates how individuals often navigate multiple spheres of influence, balancing personal roots with professional aspirations. Understanding this interconnectedness is essential for comprehending the broader context of Tomaz\\'s life and the community\\'s dynamics [Data: Entities (None); Relationships (None)].\"\\n        }\\n    ]\\n}\\n```', refusal=None, role='assistant', annotations=None, audio=None, function_call=None, tool_calls=None, reasoning=None), native_finish_reason='stop')], created=1747115246, model='openai/gpt-4o', object='chat.completion', service_tier=None, system_fingerprint='fp_f5bdcc3276', usage=CompletionUsage(completion_tokens=434, prompt_tokens=2294, total_tokens=2728, completion_tokens_details=CompletionTokensDetails(accepted_prediction_tokens=None, audio_tokens=None, reasoning_tokens=0, rejected_prediction_tokens=None), prompt_tokens_details=PromptTokensDetails(audio_tokens=None, cached_tokens=1408)), provider='OpenAI')\n",
      "```json\n",
      "{\n",
      "    \"title\": \"Tomaz, Grosuplje, and Neo4j Community\",\n",
      "    \"summary\": \"The community is centered around Tomaz, an individual residing in Grosuplje, who is employed by Neo4j. The relationships within this community highlight Tomaz's connection to his place of residence and employment, forming a simple yet interconnected network.\",\n",
      "    \"rating\": 2.0,\n",
      "    \"rating_explanation\": \"The impact severity rating is low due to the limited scope and influence of the community's entities.\",\n",
      "    \"findings\": [\n",
      "        {\n",
      "            \"summary\": \"Tomaz's Residency in Grosuplje\",\n",
      "            \"explanation\": \"Tomaz is a resident of Grosuplje, a location where he also attended school. This connection indicates a strong personal and educational tie to the area, suggesting that Grosuplje plays a significant role in his life. The relationship between Tomaz and Grosuplje is foundational to understanding his background and current living situation [Data: Entities (None); Relationships (None)].\"\n",
      "        },\n",
      "        {\n",
      "            \"summary\": \"Employment at Neo4j\",\n",
      "            \"explanation\": \"Tomaz is employed by Neo4j, an organization that forms a crucial part of his professional life. This employment relationship highlights Neo4j's role as a key entity within the community, providing Tomaz with professional opportunities and potentially influencing his career trajectory. The connection between Tomaz and Neo4j underscores the importance of employment in shaping individual identity and community dynamics [Data: Entities (None); Relationships (None)].\"\n",
      "        },\n",
      "        {\n",
      "            \"summary\": \"Interconnectedness of Personal and Professional Life\",\n",
      "            \"explanation\": \"The community's structure reveals the interconnectedness of Tomaz's personal and professional life, with Grosuplje and Neo4j serving as pivotal entities. This dual connection illustrates how individuals often navigate multiple spheres of influence, balancing personal roots with professional aspirations. Understanding this interconnectedness is essential for comprehending the broader context of Tomaz's life and the community's dynamics [Data: Entities (None); Relationships (None)].\"\n",
      "        }\n",
      "    ]\n",
      "}\n",
      "```\n",
      "Generated 1 community summaries\n"
     ]
    },
    {
     "name": "stderr",
     "output_type": "stream",
     "text": [
      "\n"
     ]
    }
   ],
   "source": [
    "# Identify and summarize communities\n",
    "result = await ms_graph.summarize_communities()\n",
    "print(result)"
   ]
  },
  {
   "cell_type": "code",
   "execution_count": 11,
   "metadata": {},
   "outputs": [],
   "source": [
    "# Close the connection\n",
    "ms_graph.close()"
   ]
  },
  {
   "cell_type": "code",
   "execution_count": null,
   "metadata": {},
   "outputs": [],
   "source": []
  }
 ],
 "metadata": {
  "kernelspec": {
   "display_name": ".venv",
   "language": "python",
   "name": "python3"
  },
  "language_info": {
   "codemirror_mode": {
    "name": "ipython",
    "version": 3
   },
   "file_extension": ".py",
   "mimetype": "text/x-python",
   "name": "python",
   "nbconvert_exporter": "python",
   "pygments_lexer": "ipython3",
   "version": "3.9.7"
  }
 },
 "nbformat": 4,
 "nbformat_minor": 2
}
